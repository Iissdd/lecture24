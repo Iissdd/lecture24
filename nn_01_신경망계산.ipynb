{
 "cells": [
  {
   "cell_type": "markdown",
   "id": "af050044",
   "metadata": {},
   "source": [
    "## 딥러닝 영상처리\n",
    "# 신경망"
   ]
  },
  {
   "cell_type": "code",
   "execution_count": 1,
   "id": "85c2b777",
   "metadata": {},
   "outputs": [],
   "source": [
    "import numpy as np\n",
    "import pandas as pd\n",
    "import matplotlib.pyplot as plt"
   ]
  },
  {
   "cell_type": "markdown",
   "id": "40f39f9f",
   "metadata": {},
   "source": [
    "### 신경망 계산방법"
   ]
  },
  {
   "attachments": {
    "image.png": {
     "image/png": "[encoded data removed]"
    }
   },
   "cell_type": "markdown",
   "id": "b300102c",
   "metadata": {},
   "source": [
    "![image.png](attachment:image.png)"
   ]
  },
  {
   "cell_type": "code",
   "execution_count": 15,
   "id": "6e4f3bf4",
   "metadata": {},
   "outputs": [
    {
     "data": {
      "text/plain": [
       "array([[ 1,  0,  1],\n",
       "       [ 1,  1,  0],\n",
       "       [ 1, -1,  1],\n",
       "       [ 1,  1,  1],\n",
       "       [ 1,  2,  1]])"
      ]
     },
     "execution_count": 15,
     "metadata": {},
     "output_type": "execute_result"
    }
   ],
   "source": [
    "X = np.array([[1,0,1], [1,1,0], [1,-1,1], [1,1,1], [1,2,1]])\n",
    "X"
   ]
  },
  {
   "cell_type": "code",
   "execution_count": 16,
   "id": "fca00c83",
   "metadata": {},
   "outputs": [
    {
     "data": {
      "text/plain": [
       "array([ 1,  1, -1])"
      ]
     },
     "execution_count": 16,
     "metadata": {},
     "output_type": "execute_result"
    }
   ],
   "source": [
    "W = np.array([1,1,-1])\n",
    "W"
   ]
  },
  {
   "cell_type": "code",
   "execution_count": null,
   "id": "9bec92fe",
   "metadata": {},
   "outputs": [],
   "source": []
  },
  {
   "cell_type": "code",
   "execution_count": 8,
   "id": "ba709992",
   "metadata": {},
   "outputs": [
    {
     "data": {
      "text/plain": [
       "array([[ 1,  0, -1],\n",
       "       [ 1,  1,  0],\n",
       "       [ 1, -1, -1],\n",
       "       [ 1,  1, -1],\n",
       "       [ 1,  2, -1]])"
      ]
     },
     "execution_count": 8,
     "metadata": {},
     "output_type": "execute_result"
    }
   ],
   "source": [
    "X*W"
   ]
  },
  {
   "cell_type": "code",
   "execution_count": 9,
   "id": "75ace94b",
   "metadata": {},
   "outputs": [
    {
     "data": {
      "text/plain": [
       "array([ 0,  2, -1,  1,  2])"
      ]
     },
     "execution_count": 9,
     "metadata": {},
     "output_type": "execute_result"
    }
   ],
   "source": [
    "(X*W).sum(axis=1)"
   ]
  },
  {
   "cell_type": "code",
   "execution_count": null,
   "id": "4e826725",
   "metadata": {},
   "outputs": [],
   "source": []
  },
  {
   "cell_type": "code",
   "execution_count": 10,
   "id": "2636e872",
   "metadata": {},
   "outputs": [
    {
     "data": {
      "text/plain": [
       "array([ 0,  2, -1,  1,  2])"
      ]
     },
     "execution_count": 10,
     "metadata": {},
     "output_type": "execute_result"
    }
   ],
   "source": [
    "### 행렬식 적용\n",
    "X@W"
   ]
  },
  {
   "cell_type": "code",
   "execution_count": 11,
   "id": "46460fcc",
   "metadata": {},
   "outputs": [
    {
     "data": {
      "text/plain": [
       "array([[ 0],\n",
       "       [ 2],\n",
       "       [-1],\n",
       "       [ 1],\n",
       "       [ 2]])"
      ]
     },
     "execution_count": 11,
     "metadata": {},
     "output_type": "execute_result"
    }
   ],
   "source": [
    "X@(W.reshape(3,1))"
   ]
  },
  {
   "cell_type": "code",
   "execution_count": null,
   "id": "c10da4e7",
   "metadata": {},
   "outputs": [],
   "source": []
  },
  {
   "cell_type": "code",
   "execution_count": 17,
   "id": "1a9253cc",
   "metadata": {},
   "outputs": [
    {
     "data": {
      "text/plain": [
       "array([ 0.1,  2.1, -0.9,  1.1,  2.1])"
      ]
     },
     "execution_count": 17,
     "metadata": {},
     "output_type": "execute_result"
    }
   ],
   "source": [
    "### 절편값 적용\n",
    "b= 0.1\n",
    "\n",
    "X@W + b"
   ]
  },
  {
   "cell_type": "code",
   "execution_count": null,
   "id": "e29ba7a8",
   "metadata": {},
   "outputs": [],
   "source": []
  },
  {
   "cell_type": "markdown",
   "id": "34f2ff22",
   "metadata": {},
   "source": [
    "### 아이리스 선형회귀"
   ]
  },
  {
   "cell_type": "code",
   "execution_count": 2,
   "id": "b3b613b0",
   "metadata": {},
   "outputs": [],
   "source": [
    "from sklearn.datasets import load_iris\n",
    "iris = load_iris()"
   ]
  },
  {
   "cell_type": "code",
   "execution_count": 3,
   "id": "038af25c",
   "metadata": {},
   "outputs": [
    {
     "data": {
      "text/plain": [
       "((150, 3), (150,))"
      ]
     },
     "execution_count": 3,
     "metadata": {},
     "output_type": "execute_result"
    }
   ],
   "source": [
    "X = iris.data[:, :3]\n",
    "y = iris.data[:, 3]\n",
    "X.shape, y.shape"
   ]
  },
  {
   "cell_type": "code",
   "execution_count": 15,
   "id": "173d6817",
   "metadata": {},
   "outputs": [
    {
     "data": {
      "text/plain": [
       "(3,)"
      ]
     },
     "execution_count": 15,
     "metadata": {},
     "output_type": "execute_result"
    }
   ],
   "source": [
    "W = np.random.randn(3)\n",
    "b = np.random.randn()\n",
    "W.shape"
   ]
  },
  {
   "cell_type": "code",
   "execution_count": 16,
   "id": "3bf1abc2",
   "metadata": {},
   "outputs": [
    {
     "data": {
      "text/plain": [
       "array([ 0.92087561, -0.38389786,  1.597491  ])"
      ]
     },
     "execution_count": 16,
     "metadata": {},
     "output_type": "execute_result"
    }
   ],
   "source": [
    "W"
   ]
  },
  {
   "cell_type": "code",
   "execution_count": 17,
   "id": "b3af3361",
   "metadata": {
    "scrolled": true
   },
   "outputs": [
    {
     "data": {
      "text/plain": [
       "array([ 4.7986138 ,  4.8063876 ,  4.38568381,  4.65148424,  4.66813645,\n",
       "        5.40056463,  4.37656578,  4.90466512,  4.38433959,  4.92774692,\n",
       "        5.15784601,  4.8802391 ,  4.71430004,  3.77461494,  4.93177959,\n",
       "        5.16538019,  4.76156823,  4.7986138 ,  5.7152171 ,  4.84319354,\n",
       "        5.59251356,  4.88158332,  3.66078981,  5.35464067,  5.3594864 ,\n",
       "        5.21797336,  5.06441422,  5.05045046,  4.92909114,  4.86493111,\n",
       "        4.99540846,  5.27301536,  4.82011174,  4.89823554,  4.92774692,\n",
       "        4.50219739,  5.00721494,  4.57604889,  4.1862007 ,  4.99675268,\n",
       "        4.54677713,  4.54701676,  4.10942113,  5.02602444,  5.48218994,\n",
       "        4.71430004,  5.00294264,  4.45334535,  5.06575844,  4.78330581,\n",
       "       11.93516711, 11.06314355, 12.20096754,  9.78111807, 11.46853935,\n",
       "       10.57208977, 11.2521644 ,  8.07195922, 11.52223713,  9.19154715,\n",
       "        8.63710413, 10.20023802, 10.27994566, 11.22154842,  9.00387052,\n",
       "       11.21804691, 10.40322264, 10.06357071, 11.26286628,  9.63667696,\n",
       "       11.08195305, 10.14169451, 11.87878089, 11.25993821, 10.8588147 ,\n",
       "       11.16434914, 12.06430023, 12.2149313 , 10.80996266,  9.05137834,\n",
       "        9.42323009,  9.26348099,  9.74407251, 11.84523684, 10.21904751,\n",
       "       10.61801373, 11.69729422, 11.15681496,  9.76422623,  9.7043385 ,\n",
       "       10.30494512, 11.02340954,  9.9422114 ,  8.20243657, 10.03914469,\n",
       "       10.01606289, 10.05445268, 10.67463958,  7.73849726,  9.93309337,\n",
       "       13.32890271, 11.66106172, 14.02102345, 12.84346545, 13.30874898,\n",
       "       15.59970495,  9.95055864, 14.88258475, 13.68487303, 14.20227049,\n",
       "       12.11372571, 12.53308528, 13.10576436, 11.48600463, 11.62267193,\n",
       "       12.34113635, 12.82950168, 15.54442333, 16.32459896, 11.87743667,\n",
       "       13.44057055, 11.11899861, 15.92832118, 11.80200132, 13.21800565,\n",
       "       14.19608054, 11.51177487, 11.50265684, 12.97394279, 13.95336191,\n",
       "       14.6935639 , 15.24935115, 12.97394279, 12.08310973, 12.77445968,\n",
       "       14.89304701, 12.65151652, 12.69902434, 11.25082018, 12.99971304,\n",
       "       13.13503612, 12.52046574, 11.66106172, 13.66798119, 13.21800565,\n",
       "       12.5344295 , 12.03852999, 12.35025438, 12.23993076, 11.63797992])"
      ]
     },
     "execution_count": 17,
     "metadata": {},
     "output_type": "execute_result"
    }
   ],
   "source": [
    "pred_y = X@W + b\n",
    "pred_y"
   ]
  },
  {
   "cell_type": "code",
   "execution_count": 18,
   "id": "6371f8e5",
   "metadata": {},
   "outputs": [
    {
     "data": {
      "text/plain": [
       "<matplotlib.legend.Legend at 0x23821719580>"
      ]
     },
     "execution_count": 18,
     "metadata": {},
     "output_type": "execute_result"
    },
    {
     "data": {
      "image/png": "[encoded data removed]",
      "text/plain": [
       "<Figure size 432x288 with 1 Axes>"
      ]
     },
     "metadata": {
      "needs_background": "light"
     },
     "output_type": "display_data"
    }
   ],
   "source": [
    "plt.plot(pred_y)\n",
    "plt.plot(y)\n",
    "plt.legend(['pred_y', 'y'])"
   ]
  },
  {
   "cell_type": "code",
   "execution_count": null,
   "id": "989ba8ee",
   "metadata": {},
   "outputs": [],
   "source": []
  },
  {
   "cell_type": "markdown",
   "id": "13a67e97",
   "metadata": {},
   "source": [
    "### 오차값 계산\n",
    "- MSE (Mean Squared Error)"
   ]
  },
  {
   "cell_type": "code",
   "execution_count": 19,
   "id": "b04b751e",
   "metadata": {},
   "outputs": [
    {
     "data": {
      "text/plain": [
       "75.66739074066041"
      ]
     },
     "execution_count": 19,
     "metadata": {},
     "output_type": "execute_result"
    }
   ],
   "source": [
    "mse = (((y - pred_y)**2).sum())/150\n",
    "#mse = ((y - pred_y)**2).mean()\n",
    "mse"
   ]
  },
  {
   "cell_type": "code",
   "execution_count": null,
   "id": "05a97dbe",
   "metadata": {},
   "outputs": [],
   "source": []
  },
  {
   "cell_type": "markdown",
   "id": "1d0ca09f",
   "metadata": {},
   "source": [
    "### 가중치 변경"
   ]
  },
  {
   "cell_type": "code",
   "execution_count": 20,
   "id": "de461617",
   "metadata": {},
   "outputs": [
    {
     "data": {
      "text/plain": [
       "array([ 0.93087561, -0.38389786,  1.597491  ])"
      ]
     },
     "execution_count": 20,
     "metadata": {},
     "output_type": "execute_result"
    }
   ],
   "source": [
    "W1 = W.copy()\n",
    "W1[0] += 0.01\n",
    "W1"
   ]
  },
  {
   "cell_type": "code",
   "execution_count": 21,
   "id": "d9cb1798",
   "metadata": {},
   "outputs": [
    {
     "data": {
      "text/plain": [
       "76.67464418527636"
      ]
     },
     "execution_count": 21,
     "metadata": {},
     "output_type": "execute_result"
    }
   ],
   "source": [
    "pred_y = X@W1 + b\n",
    "((y - pred_y)**2).mean()"
   ]
  },
  {
   "cell_type": "code",
   "execution_count": null,
   "id": "021a5f0e",
   "metadata": {},
   "outputs": [],
   "source": []
  },
  {
   "cell_type": "code",
   "execution_count": 22,
   "id": "a5a2054c",
   "metadata": {},
   "outputs": [
    {
     "data": {
      "text/plain": [
       "array([ 0.91087561, -0.38389786,  1.597491  ])"
      ]
     },
     "execution_count": 22,
     "metadata": {},
     "output_type": "execute_result"
    }
   ],
   "source": [
    "W2 = W.copy()\n",
    "W2[0] -= 0.01\n",
    "W2"
   ]
  },
  {
   "cell_type": "code",
   "execution_count": 23,
   "id": "f912c7b8",
   "metadata": {},
   "outputs": [
    {
     "data": {
      "text/plain": [
       "74.66710242937779"
      ]
     },
     "execution_count": 23,
     "metadata": {},
     "output_type": "execute_result"
    }
   ],
   "source": [
    "pred_y = X@W2 + b\n",
    "((y - pred_y)**2).mean()"
   ]
  },
  {
   "cell_type": "code",
   "execution_count": null,
   "id": "fbac4a7c",
   "metadata": {},
   "outputs": [],
   "source": []
  },
  {
   "cell_type": "markdown",
   "id": "d20e7642",
   "metadata": {},
   "source": [
    "### 중간층 추가시 계산\n",
    "- 노드 2개인 중간층 추가"
   ]
  },
  {
   "cell_type": "code",
   "execution_count": 50,
   "id": "180b5f7d",
   "metadata": {},
   "outputs": [
    {
     "data": {
      "text/plain": [
       "array([[ 1.0394955 ,  0.54257454],\n",
       "       [-0.15192403, -0.04716975],\n",
       "       [-0.09680683, -0.82901443]])"
      ]
     },
     "metadata": {},
     "output_type": "display_data"
    },
    {
     "data": {
      "text/plain": [
       "array([[0.80945136],\n",
       "       [1.49228806]])"
      ]
     },
     "metadata": {},
     "output_type": "display_data"
    },
    {
     "data": {
      "text/plain": [
       "array([0.22595788, 1.09351419])"
      ]
     },
     "metadata": {},
     "output_type": "display_data"
    },
    {
     "data": {
      "text/plain": [
       "-1.1518511351055862"
      ]
     },
     "metadata": {},
     "output_type": "display_data"
    }
   ],
   "source": [
    "W1 = np.random.randn(3,2)\n",
    "W2 = np.random.randn(2,1)\n",
    "b1 = np.random.randn(2)\n",
    "b2 = np.random.randn()\n",
    "display(W1, W2, b1, b2)"
   ]
  },
  {
   "cell_type": "code",
   "execution_count": 51,
   "id": "6a9acdb6",
   "metadata": {},
   "outputs": [
    {
     "data": {
      "text/plain": [
       "array([[ 4.86012129e+00,  2.53493002e+00],\n",
       "       [ 4.72818421e+00,  2.44999998e+00],\n",
       "       [ 4.49958098e+00,  2.41495257e+00],\n",
       "       [ 4.39146247e+00,  2.19960920e+00],\n",
       "       [ 4.74097934e+00,  2.47595559e+00],\n",
       "       [ 5.08215829e+00,  2.43013015e+00],\n",
       "       [ 4.35556595e+00,  2.26835972e+00],\n",
       "       [ 4.76168346e+00,  2.40248809e+00],\n",
       "       [ 4.22362886e+00,  2.18342969e+00],\n",
       "       [ 4.70331112e+00,  2.36238157e+00],\n",
       "       [ 5.13190446e+00,  2.60536699e+00],\n",
       "       [ 4.54410368e+00,  2.21107174e+00],\n",
       "       [ 4.62423466e+00,  2.39574253e+00],\n",
       "       [ 4.13352895e+00,  2.37315959e+00],\n",
       "       [ 5.53116750e+00,  3.05695021e+00],\n",
       "       [ 5.33740629e+00,  2.73512052e+00],\n",
       "       [ 5.12088102e+00,  2.76173592e+00],\n",
       "       [ 4.86012129e+00,  2.53493002e+00],\n",
       "       [ 5.40919934e+00,  2.59761949e+00],\n",
       "       [ 4.80486340e+00,  2.43787765e+00],\n",
       "       [ 5.15812030e+00,  2.45371502e+00],\n",
       "       [ 4.82005581e+00,  2.44259462e+00],\n",
       "       [ 4.36390387e+00,  2.59053154e+00],\n",
       "       [ 4.86146405e+00,  2.29565964e+00],\n",
       "       [ 4.51506163e+00,  1.96236741e+00],\n",
       "       [ 4.81277239e+00,  2.33845455e+00],\n",
       "       [ 4.75200278e+00,  2.31958665e+00],\n",
       "       [ 4.95439016e+00,  2.50628603e+00],\n",
       "       [ 4.97926325e+00,  2.59390445e+00],\n",
       "       [ 4.47053894e+00,  2.16624824e+00],\n",
       "       [ 4.58968089e+00,  2.22522267e+00],\n",
       "       [ 5.17748167e+00,  2.61951791e+00],\n",
       "       [ 4.86323575e+00,  2.47798418e+00],\n",
       "       [ 5.16957268e+00,  2.71894101e+00],\n",
       "       [ 4.70331112e+00,  2.36238157e+00],\n",
       "       [ 4.82111032e+00,  2.66062637e+00],\n",
       "       [ 5.28560018e+00,  2.83486128e+00],\n",
       "       [ 4.63702979e+00,  2.42169813e+00],\n",
       "       [ 4.21811714e+00,  2.26161416e+00],\n",
       "       [ 4.86563301e+00,  2.45674555e+00],\n",
       "       [ 4.76585243e+00,  2.56357401e+00],\n",
       "       [ 4.42841351e+00,  2.34889044e+00],\n",
       "       [ 4.18773233e+00,  2.25218021e+00],\n",
       "       [ 4.73681038e+00,  2.31486968e+00],\n",
       "       [ 4.76614067e+00,  2.10627187e+00],\n",
       "       [ 4.62423466e+00,  2.39574253e+00],\n",
       "       [ 4.79518272e+00,  2.35497620e+00],\n",
       "       [ 4.38595075e+00,  2.27779367e+00],\n",
       "       [ 5.02795491e+00,  2.55110953e+00],\n",
       "       [ 4.78655655e+00,  2.49010651e+00],\n",
       "       [ 6.56127743e+00,  8.44224940e-01],\n",
       "       [ 5.95694149e+00,  6.84483101e-01],\n",
       "       [ 6.45315891e+00,  6.28881574e-01],\n",
       "       [ 5.20653058e+00,  6.53126006e-01],\n",
       "       [ 6.11197997e+00,  6.74707012e-01],\n",
       "       [ 5.29006425e+00,  3.23548821e-01],\n",
       "       [ 5.81843817e+00,  4.59705784e-01],\n",
       "       [ 4.63540565e+00,  9.03174409e-01],\n",
       "       [ 6.20073712e+00,  7.24247491e-01],\n",
       "       [ 4.84359300e+00,  5.54387186e-01],\n",
       "       [ 4.78076345e+00,  8.10496877e-01],\n",
       "       [ 5.49662059e+00,  6.71334110e-01],\n",
       "       [ 5.74147073e+00,  9.29130253e-01],\n",
       "       [ 5.67130868e+00,  3.70058776e-01],\n",
       "       [ 5.25804844e+00,  1.01068738e+00],\n",
       "       [ 6.29366323e+00,  9.34873882e-01],\n",
       "       [ 5.15572989e+00,  2.59857417e-01],\n",
       "       [ 5.44792893e+00,  7.14129025e-01],\n",
       "       [ 5.90096642e+00,  6.23137944e-01],\n",
       "       [ 5.28977600e+00,  7.80850953e-01],\n",
       "       [ 5.40815169e+00,  1.64491499e-01],\n",
       "       [ 5.75426587e+00,  9.55085856e-01],\n",
       "       [ 5.92061603e+00,  3.31638699e-01],\n",
       "       [ 5.68650109e+00,  3.74775752e-01],\n",
       "       [ 6.02188006e+00,  8.64436913e-01],\n",
       "       [ 6.20490608e+00,  8.85333403e-01],\n",
       "       [ 6.40446726e+00,  6.71676488e-01],\n",
       "       [ 6.25077153e+00,  4.42182197e-01],\n",
       "       [ 5.58672050e+00,  4.81604209e-01],\n",
       "       [ 5.41725588e+00,  1.16199721e+00],\n",
       "       [ 5.21069954e+00,  8.14211918e-01],\n",
       "       [ 5.22038022e+00,  8.97113361e-01],\n",
       "       [ 5.46729030e+00,  8.79931912e-01],\n",
       "       [ 5.55902121e+00, -6.37050137e-03],\n",
       "       [ 4.94783079e+00,  1.51342508e-01],\n",
       "       [ 5.51075848e+00,  4.58019333e-01],\n",
       "       [ 6.26462118e+00,  6.86169552e-01],\n",
       "       [ 5.99940425e+00,  7.55579867e-01],\n",
       "       [ 5.19445263e+00,  5.91463190e-01],\n",
       "       [ 5.17614577e+00,  6.43692056e-01],\n",
       "       [ 5.12223064e+00,  3.07369307e-01],\n",
       "       [ 5.66579696e+00,  4.48243245e-01],\n",
       "       [ 5.47280202e+00,  8.01747443e-01],\n",
       "       [ 4.75454760e+00,  9.62148839e-01],\n",
       "       [ 5.23034915e+00,  5.22712673e-01],\n",
       "       [ 5.28872149e+00,  5.62819201e-01],\n",
       "       [ 5.30391390e+00,  5.67536176e-01],\n",
       "       [ 5.81398096e+00,  7.55922005e-01],\n",
       "       [ 4.85715440e+00,  1.25567667e+00],\n",
       "       [ 5.32878698e+00,  6.55154595e-01],\n",
       "       [ 5.69258930e+00, -6.18012981e-01],\n",
       "       [ 5.35112211e+00, -1.14885410e-01],\n",
       "       [ 6.57944359e+00, -8.69009773e-02],\n",
       "       [ 5.79208164e+00, -2.67539306e-01],\n",
       "       [ 5.96542697e+00, -3.29544260e-01],\n",
       "       [ 7.03142656e+00, -3.95923810e-01],\n",
       "       [ 4.50404506e+00, -9.63598876e-02],\n",
       "       [ 6.76381236e+00, -3.05274867e-01],\n",
       "       [ 6.24928809e+00, -1.97444475e-01],\n",
       "       [ 6.57287736e+00, -2.26748261e-01],\n",
       "       [ 6.00280695e+00,  2.41331894e-01],\n",
       "       [ 5.95545804e+00,  4.48564289e-02],\n",
       "       [ 6.30631767e+00,  8.19324337e-02],\n",
       "       [ 5.28723804e+00, -7.68074704e-02],\n",
       "       [ 5.33592970e+00, -1.19602385e-01],\n",
       "       [ 5.87949603e+00,  2.12715530e-02],\n",
       "       [ 5.99446902e+00, -8.08399293e-02],\n",
       "       [ 7.00415621e+00, -4.62303601e-01],\n",
       "       [ 7.16710368e+00, -5.71502785e-01],\n",
       "       [ 5.64466390e+00,  1.00115818e-01],\n",
       "       [ 6.36052105e+00, -3.90469494e-02],\n",
       "       [ 5.14739197e+00, -6.23144069e-02],\n",
       "       [ 7.15608024e+00, -4.15133849e-01],\n",
       "       [ 5.89023122e+00,  3.22204748e-01],\n",
       "       [ 6.13742955e+00, -1.52278833e-01],\n",
       "       [ 6.64332765e+00, -1.24978917e-01],\n",
       "       [ 5.78076995e+00,  3.46131762e-01],\n",
       "       [ 5.63675492e+00,  1.99538914e-01],\n",
       "       [ 5.91122359e+00, -2.08564877e-01],\n",
       "       [ 6.69307382e+00,  5.02579205e-02],\n",
       "       [ 6.90231568e+00, -8.04975509e-02],\n",
       "       [ 7.24109736e+00, -1.05084362e-01],\n",
       "       [ 5.91122359e+00, -2.08564877e-01],\n",
       "       [ 5.85567746e+00,  1.51684886e-01],\n",
       "       [ 5.62975975e+00, -3.61903289e-01],\n",
       "       [ 7.18377953e+00,  7.28408617e-02],\n",
       "       [ 5.71611963e+00, -2.91124182e-01],\n",
       "       [ 5.87532707e+00, -1.39814359e-01],\n",
       "       [ 5.54248605e+00,  2.28182903e-01],\n",
       "       [ 6.40475550e+00,  2.14374356e-01],\n",
       "       [ 6.17749503e+00, -5.99434393e-02],\n",
       "       [ 6.43379755e+00,  4.63078687e-01],\n",
       "       [ 5.35112211e+00, -1.14885410e-01],\n",
       "       [ 6.23721013e+00, -2.59107291e-01],\n",
       "       [ 6.13742955e+00, -1.52278833e-01],\n",
       "       [ 6.23141017e+00,  2.76379310e-01],\n",
       "       [ 5.91093535e+00,  2.48737255e-01],\n",
       "       [ 6.02351107e+00,  1.67864401e-01],\n",
       "       [ 5.63153144e+00, -1.79578750e-01],\n",
       "       [ 5.40949445e+00, -7.47788813e-02]])"
      ]
     },
     "execution_count": 51,
     "metadata": {},
     "output_type": "execute_result"
    }
   ],
   "source": [
    "y1 = X@W1 + b1\n",
    "y1"
   ]
  },
  {
   "cell_type": "code",
   "execution_count": 52,
   "id": "0acb4e33",
   "metadata": {},
   "outputs": [
    {
     "data": {
      "text/plain": [
       "(150, 2)"
      ]
     },
     "execution_count": 52,
     "metadata": {},
     "output_type": "execute_result"
    }
   ],
   "source": [
    "y1.shape"
   ]
  },
  {
   "cell_type": "code",
   "execution_count": 56,
   "id": "ad0fe273",
   "metadata": {},
   "outputs": [
    {
     "data": {
      "text/plain": [
       "array([[8.11573701],\n",
       "       [7.88220028],\n",
       "       [7.64485625],\n",
       "       [7.23598524],\n",
       "       [7.93129055],\n",
       "       [8.13907356],\n",
       "       [7.30952432],\n",
       "       [7.83841487],\n",
       "       [7.0759876 ],\n",
       "       [7.73131481],\n",
       "       [8.4408445 ],\n",
       "       [7.37664628],\n",
       "       [7.71709042],\n",
       "       [7.28618777],\n",
       "       [9.43792076],\n",
       "       [8.80081789],\n",
       "       [8.66526906],\n",
       "       [8.11573701],\n",
       "       [8.65373972],\n",
       "       [7.92617834],\n",
       "       [8.23575654],\n",
       "       [7.94551494],\n",
       "       [7.79704664],\n",
       "       [7.75976357],\n",
       "       [6.98199966],\n",
       "       [7.78421238],\n",
       "       [7.706866  ],\n",
       "       [8.14929799],\n",
       "       [8.30018346],\n",
       "       [7.25020962],\n",
       "       [7.43465607],\n",
       "       [8.49885429],\n",
       "       [8.03327841],\n",
       "       [8.64082025],\n",
       "       [7.73131481],\n",
       "       [8.27173469],\n",
       "       [8.90772531],\n",
       "       [7.7661807 ],\n",
       "       [7.18819988],\n",
       "       [8.00352473],\n",
       "       [8.08217603],\n",
       "       [7.48866591],\n",
       "       [7.14952668],\n",
       "       [7.6875294 ],\n",
       "       [7.39998284],\n",
       "       [7.71709042],\n",
       "       [7.79462946],\n",
       "       [7.34819752],\n",
       "       [8.27573465],\n",
       "       [7.98930034],\n",
       "       [6.96972114],\n",
       "       [6.24215976],\n",
       "       [6.56085013],\n",
       "       [5.58794481],\n",
       "       [6.35306713],\n",
       "       [5.16373716],\n",
       "       [5.79461556],\n",
       "       [5.49879121],\n",
       "       [6.49884039],\n",
       "       [5.14681773],\n",
       "       [5.4781497 ],\n",
       "       [5.8499303 ],\n",
       "       [6.43283069],\n",
       "       [5.54174223],\n",
       "       [6.16323059],\n",
       "       [6.8883748 ],\n",
       "       [4.95995411],\n",
       "       [5.87437912],\n",
       "       [6.10530602],\n",
       "       [5.84593035],\n",
       "       [5.02196385],\n",
       "       [6.48192096],\n",
       "       [5.68621058],\n",
       "       [5.56107883],\n",
       "       [6.5632673 ],\n",
       "       [6.74260154],\n",
       "       [6.58529894],\n",
       "       [6.11841814],\n",
       "       [5.63973013],\n",
       "       [6.51789911],\n",
       "       [5.83170597],\n",
       "       [5.96325484],\n",
       "       [6.13747687],\n",
       "       [4.88911007],\n",
       "       [4.6297344 ],\n",
       "       [5.54304715],\n",
       "       [6.49372817],\n",
       "       [6.38262815],\n",
       "       [5.48614961],\n",
       "       [5.54927162],\n",
       "       [5.00373952],\n",
       "       [5.65395451],\n",
       "       [6.02526459],\n",
       "       [5.68323767],\n",
       "       [5.41261053],\n",
       "       [5.51971059],\n",
       "       [5.53904719],\n",
       "       [6.23304759],\n",
       "       [6.20432096],\n",
       "       [5.68993266],\n",
       "       [4.08448017],\n",
       "       [4.55889035],\n",
       "       [5.59491768],\n",
       "       [4.68802206],\n",
       "       [4.73580742],\n",
       "       [5.49962483],\n",
       "       [3.9008681 ],\n",
       "       [5.41827848],\n",
       "       [5.16271012],\n",
       "       [5.3809102 ],\n",
       "       [5.61797636],\n",
       "       [5.28645174],\n",
       "       [5.62578362],\n",
       "       [4.56400257],\n",
       "       [4.53955376],\n",
       "       [5.18976875],\n",
       "       [5.13045405],\n",
       "       [5.37849303],\n",
       "       [5.34743444],\n",
       "       [5.11734193],\n",
       "       [5.48912253],\n",
       "       [4.4724318 ],\n",
       "       [5.571859  ],\n",
       "       [5.64753739],\n",
       "       [5.13956622],\n",
       "       [5.58980547],\n",
       "       [5.59463981],\n",
       "       [5.25930788],\n",
       "       [4.87246851],\n",
       "       [5.89157641],\n",
       "       [5.86582269],\n",
       "       [6.10335937],\n",
       "       [4.87246851],\n",
       "       [5.36510304],\n",
       "       [4.41581214],\n",
       "       [6.32247906],\n",
       "       [4.59133908],\n",
       "       [4.9460076 ],\n",
       "       [5.2257469 ],\n",
       "       [5.90310575],\n",
       "       [5.30978829],\n",
       "       [6.29775238],\n",
       "       [4.55889035],\n",
       "       [5.06091492],\n",
       "       [5.13956622],\n",
       "       [5.85532039],\n",
       "       [5.5546617 ],\n",
       "       [5.52510068],\n",
       "       [4.68932697],\n",
       "       [4.66599042]])"
      ]
     },
     "execution_count": 56,
     "metadata": {},
     "output_type": "execute_result"
    }
   ],
   "source": [
    "pred_y = y1@W2 + b\n",
    "pred_y"
   ]
  },
  {
   "cell_type": "code",
   "execution_count": 57,
   "id": "836bf32f",
   "metadata": {},
   "outputs": [
    {
     "data": {
      "text/plain": [
       "(150, 1)"
      ]
     },
     "execution_count": 57,
     "metadata": {},
     "output_type": "execute_result"
    }
   ],
   "source": [
    "pred_y.shape"
   ]
  },
  {
   "cell_type": "code",
   "execution_count": 58,
   "id": "adfd538a",
   "metadata": {},
   "outputs": [
    {
     "data": {
      "text/plain": [
       "30.095389406552314"
      ]
     },
     "execution_count": 58,
     "metadata": {},
     "output_type": "execute_result"
    }
   ],
   "source": [
    "mse = ((y - pred_y.ravel())**2).mean()\n",
    "mse"
   ]
  },
  {
   "cell_type": "code",
   "execution_count": null,
   "id": "84dbaa3e",
   "metadata": {},
   "outputs": [],
   "source": []
  }
 ],
 "metadata": {
  "kernelspec": {
   "display_name": "Python 3",
   "language": "python",
   "name": "python3"
  },
  "language_info": {
   "codemirror_mode": {
    "name": "ipython",
    "version": 3
   },
   "file_extension": ".py",
   "mimetype": "text/x-python",
   "name": "python",
   "nbconvert_exporter": "python",
   "pygments_lexer": "ipython3",
   "version": "3.8.8"
  }
 },
 "nbformat": 4,
 "nbformat_minor": 5
}
