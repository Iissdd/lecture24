{
 "cells": [
  {
   "cell_type": "markdown",
   "id": "521f92f8",
   "metadata": {},
   "source": [
    "## 딥러닝 영상처리\n",
    "# 텐서플로와 케라스\n",
    "- pip insall tensorflow"
   ]
  },
  {
   "cell_type": "code",
   "execution_count": 2,
   "id": "8ea8076c",
   "metadata": {},
   "outputs": [],
   "source": [
    "import numpy as np\n",
    "import pandas as pd\n",
    "import matplotlib.pyplot as plt"
   ]
  },
  {
   "cell_type": "markdown",
   "id": "10ca65ac",
   "metadata": {},
   "source": [
    "### 선형회귀 적용"
   ]
  },
  {
   "cell_type": "code",
   "execution_count": 3,
   "id": "4cf20096",
   "metadata": {},
   "outputs": [],
   "source": [
    "from sklearn.datasets import load_iris\n",
    "iris = load_iris()"
   ]
  },
  {
   "cell_type": "code",
   "execution_count": 4,
   "id": "176382e6",
   "metadata": {},
   "outputs": [
    {
     "data": {
      "text/plain": [
       "((150, 3), (150,))"
      ]
     },
     "execution_count": 4,
     "metadata": {},
     "output_type": "execute_result"
    }
   ],
   "source": [
    "X = iris.data[:, :3]\n",
    "y = iris.data[:, 3]\n",
    "X.shape, y.shape"
   ]
  },
  {
   "cell_type": "code",
   "execution_count": null,
   "id": "42798912",
   "metadata": {},
   "outputs": [],
   "source": []
  },
  {
   "cell_type": "code",
   "execution_count": 5,
   "id": "0f7444b4",
   "metadata": {},
   "outputs": [],
   "source": [
    "import tensorflow as tf\n",
    "from tensorflow import keras"
   ]
  },
  {
   "cell_type": "code",
   "execution_count": 6,
   "id": "33559fe1",
   "metadata": {},
   "outputs": [
    {
     "data": {
      "text/plain": [
       "'2.5.0'"
      ]
     },
     "execution_count": 6,
     "metadata": {},
     "output_type": "execute_result"
    }
   ],
   "source": [
    "tf.__version__"
   ]
  },
  {
   "cell_type": "code",
   "execution_count": 57,
   "id": "b63f5a17",
   "metadata": {
    "collapsed": true
   },
   "outputs": [
    {
     "data": {
      "text/plain": [
       "[name: \"/device:CPU:0\"\n",
       " device_type: \"CPU\"\n",
       " memory_limit: 268435456\n",
       " locality {\n",
       " }\n",
       " incarnation: 6077237712141385204,\n",
       " name: \"/device:GPU:0\"\n",
       " device_type: \"GPU\"\n",
       " memory_limit: 1418189211\n",
       " locality {\n",
       "   bus_id: 1\n",
       "   links {\n",
       "   }\n",
       " }\n",
       " incarnation: 7071413289964243560\n",
       " physical_device_desc: \"device: 0, name: NVIDIA GeForce GTX 960M, pci bus id: 0000:01:00.0, compute capability: 5.0\"]"
      ]
     },
     "execution_count": 57,
     "metadata": {},
     "output_type": "execute_result"
    }
   ],
   "source": [
    "from tensorflow.python.client import device_lib\n",
    "device_lib.list_local_devices()"
   ]
  },
  {
   "cell_type": "code",
   "execution_count": null,
   "id": "13b439ca",
   "metadata": {},
   "outputs": [],
   "source": []
  },
  {
   "cell_type": "code",
   "execution_count": 1,
   "id": "ecef091d",
   "metadata": {},
   "outputs": [],
   "source": [
    "import numpy as np\n",
    "import matplotlib.pyplot as plt\n",
    "\n",
    "import tensorflow as tf\n",
    "from tensorflow import keras"
   ]
  },
  {
   "cell_type": "code",
   "execution_count": 2,
   "id": "b0fd57cd",
   "metadata": {},
   "outputs": [],
   "source": [
    "from sklearn.datasets import load_iris\n",
    "iris = load_iris()"
   ]
  },
  {
   "cell_type": "code",
   "execution_count": 3,
   "id": "3cd57776",
   "metadata": {},
   "outputs": [
    {
     "data": {
      "text/plain": [
       "((150, 3), (150,))"
      ]
     },
     "execution_count": 3,
     "metadata": {},
     "output_type": "execute_result"
    }
   ],
   "source": [
    "X = iris.data[:, :3]\n",
    "y = iris.data[:, 3]\n",
    "X.shape, y.shape"
   ]
  },
  {
   "cell_type": "code",
   "execution_count": 21,
   "id": "9cf6c783",
   "metadata": {},
   "outputs": [
    {
     "name": "stdout",
     "output_type": "stream",
     "text": [
      "Model: \"sequential_4\"\n",
      "_________________________________________________________________\n",
      "Layer (type)                 Output Shape              Param #   \n",
      "=================================================================\n",
      "dense_3 (Dense)              (None, 1)                 4         \n",
      "=================================================================\n",
      "Total params: 4\n",
      "Trainable params: 4\n",
      "Non-trainable params: 0\n",
      "_________________________________________________________________\n"
     ]
    }
   ],
   "source": [
    "model = keras.models.Sequential()\n",
    "model.add(keras.layers.Dense(1, input_shape=(3,)))\n",
    "model.summary()"
   ]
  },
  {
   "cell_type": "code",
   "execution_count": 22,
   "id": "e6b4796c",
   "metadata": {},
   "outputs": [],
   "source": [
    "model.compile(loss='mse', optimizer='sgd')"
   ]
  },
  {
   "cell_type": "code",
   "execution_count": 23,
   "id": "6fc9c8da",
   "metadata": {
    "scrolled": false
   },
   "outputs": [
    {
     "name": "stdout",
     "output_type": "stream",
     "text": [
      "Epoch 1/20\n",
      "5/5 [==============================] - 0s 4ms/step - loss: 1.9064\n",
      "Epoch 2/20\n",
      "5/5 [==============================] - 0s 4ms/step - loss: 1.1877\n",
      "Epoch 3/20\n",
      "5/5 [==============================] - 0s 4ms/step - loss: 0.7632\n",
      "Epoch 4/20\n",
      "5/5 [==============================] - 0s 5ms/step - loss: 0.5308\n",
      "Epoch 5/20\n",
      "5/5 [==============================] - 0s 5ms/step - loss: 0.4163\n",
      "Epoch 6/20\n",
      "5/5 [==============================] - 0s 5ms/step - loss: 0.3093\n",
      "Epoch 7/20\n",
      "5/5 [==============================] - 0s 4ms/step - loss: 0.2178\n",
      "Epoch 8/20\n",
      "5/5 [==============================] - 0s 5ms/step - loss: 0.1759\n",
      "Epoch 9/20\n",
      "5/5 [==============================] - 0s 4ms/step - loss: 0.1479\n",
      "Epoch 10/20\n",
      "5/5 [==============================] - 0s 6ms/step - loss: 0.1198\n",
      "Epoch 11/20\n",
      "5/5 [==============================] - 0s 5ms/step - loss: 0.1029\n",
      "Epoch 12/20\n",
      "5/5 [==============================] - 0s 5ms/step - loss: 0.0891\n",
      "Epoch 13/20\n",
      "5/5 [==============================] - 0s 4ms/step - loss: 0.0969\n",
      "Epoch 14/20\n",
      "5/5 [==============================] - 0s 4ms/step - loss: 0.0801\n",
      "Epoch 15/20\n",
      "5/5 [==============================] - 0s 4ms/step - loss: 0.0835\n",
      "Epoch 16/20\n",
      "5/5 [==============================] - 0s 4ms/step - loss: 0.0835\n",
      "Epoch 17/20\n",
      "5/5 [==============================] - 0s 4ms/step - loss: 0.0726\n",
      "Epoch 18/20\n",
      "5/5 [==============================] - 0s 4ms/step - loss: 0.0668\n",
      "Epoch 19/20\n",
      "5/5 [==============================] - 0s 3ms/step - loss: 0.0782\n",
      "Epoch 20/20\n",
      "5/5 [==============================] - 0s 4ms/step - loss: 0.0768\n"
     ]
    },
    {
     "data": {
      "text/plain": [
       "<tensorflow.python.keras.callbacks.History at 0x247d56262e0>"
      ]
     },
     "execution_count": 23,
     "metadata": {},
     "output_type": "execute_result"
    }
   ],
   "source": [
    "model.fit(X, y, epochs=20)"
   ]
  },
  {
   "cell_type": "code",
   "execution_count": 24,
   "id": "02c5c999",
   "metadata": {},
   "outputs": [],
   "source": [
    "h = model.history.history"
   ]
  },
  {
   "cell_type": "code",
   "execution_count": 25,
   "id": "56464517",
   "metadata": {},
   "outputs": [
    {
     "data": {
      "text/plain": [
       "[<matplotlib.lines.Line2D at 0x247d8bbc1c0>]"
      ]
     },
     "execution_count": 25,
     "metadata": {},
     "output_type": "execute_result"
    },
    {
     "data": {
      "image/png": "[encoded data removed]",
      "text/plain": [
       "<Figure size 432x288 with 1 Axes>"
      ]
     },
     "metadata": {
      "needs_background": "light"
     },
     "output_type": "display_data"
    }
   ],
   "source": [
    "plt.plot(h['loss'])"
   ]
  },
  {
   "cell_type": "code",
   "execution_count": null,
   "id": "658df2f5",
   "metadata": {},
   "outputs": [],
   "source": []
  },
  {
   "cell_type": "markdown",
   "id": "3444c33b",
   "metadata": {},
   "source": [
    "### 검증데이터 분리\n",
    "- validation_split 옵션"
   ]
  },
  {
   "cell_type": "code",
   "execution_count": 7,
   "id": "51cd5a65",
   "metadata": {},
   "outputs": [
    {
     "name": "stdout",
     "output_type": "stream",
     "text": [
      "Model: \"sequential\"\n",
      "_________________________________________________________________\n",
      "Layer (type)                 Output Shape              Param #   \n",
      "=================================================================\n",
      "dense (Dense)                (None, 1)                 4         \n",
      "=================================================================\n",
      "Total params: 4\n",
      "Trainable params: 4\n",
      "Non-trainable params: 0\n",
      "_________________________________________________________________\n"
     ]
    }
   ],
   "source": [
    "model = keras.models.Sequential()\n",
    "model.add(keras.layers.Dense(1, input_shape=(3,)))\n",
    "model.summary()"
   ]
  },
  {
   "cell_type": "code",
   "execution_count": 8,
   "id": "21a521e0",
   "metadata": {},
   "outputs": [],
   "source": [
    "model.compile(loss='mse', optimizer='sgd')"
   ]
  },
  {
   "cell_type": "code",
   "execution_count": 9,
   "id": "59fbf93c",
   "metadata": {
    "scrolled": false
   },
   "outputs": [
    {
     "name": "stdout",
     "output_type": "stream",
     "text": [
      "Epoch 1/100\n",
      "4/4 [==============================] - 2s 57ms/step - loss: 12.5976 - val_loss: 0.3304\n",
      "Epoch 2/100\n",
      "4/4 [==============================] - 0s 16ms/step - loss: 0.0813 - val_loss: 0.1877\n",
      "Epoch 3/100\n",
      "4/4 [==============================] - 0s 22ms/step - loss: 0.0735 - val_loss: 0.1585\n",
      "Epoch 4/100\n",
      "4/4 [==============================] - 0s 19ms/step - loss: 0.0564 - val_loss: 0.1419\n",
      "Epoch 5/100\n",
      "4/4 [==============================] - 0s 18ms/step - loss: 0.0474 - val_loss: 0.1352\n",
      "Epoch 6/100\n",
      "4/4 [==============================] - 0s 22ms/step - loss: 0.0441 - val_loss: 0.1128\n",
      "Epoch 7/100\n",
      "4/4 [==============================] - 0s 19ms/step - loss: 0.0396 - val_loss: 0.1066\n",
      "Epoch 8/100\n",
      "4/4 [==============================] - 0s 22ms/step - loss: 0.0367 - val_loss: 0.1224\n",
      "Epoch 9/100\n",
      "4/4 [==============================] - 0s 18ms/step - loss: 0.0339 - val_loss: 0.1157\n",
      "Epoch 10/100\n",
      "4/4 [==============================] - 0s 20ms/step - loss: 0.0323 - val_loss: 0.1106\n",
      "Epoch 11/100\n",
      "4/4 [==============================] - 0s 17ms/step - loss: 0.0315 - val_loss: 0.1217\n",
      "Epoch 12/100\n",
      "4/4 [==============================] - 0s 19ms/step - loss: 0.0314 - val_loss: 0.1198\n",
      "Epoch 13/100\n",
      "4/4 [==============================] - 0s 20ms/step - loss: 0.0327 - val_loss: 0.1157\n",
      "Epoch 14/100\n",
      "4/4 [==============================] - 0s 19ms/step - loss: 0.0301 - val_loss: 0.0938\n",
      "Epoch 15/100\n",
      "4/4 [==============================] - 0s 21ms/step - loss: 0.0312 - val_loss: 0.1064\n",
      "Epoch 16/100\n",
      "4/4 [==============================] - 0s 24ms/step - loss: 0.0291 - val_loss: 0.0878\n",
      "Epoch 17/100\n",
      "4/4 [==============================] - 0s 17ms/step - loss: 0.0302 - val_loss: 0.0924\n",
      "Epoch 18/100\n",
      "4/4 [==============================] - 0s 16ms/step - loss: 0.0282 - val_loss: 0.1042\n",
      "Epoch 19/100\n",
      "4/4 [==============================] - 0s 20ms/step - loss: 0.0284 - val_loss: 0.0822\n",
      "Epoch 20/100\n",
      "4/4 [==============================] - 0s 25ms/step - loss: 0.0285 - val_loss: 0.1030\n",
      "Epoch 21/100\n",
      "4/4 [==============================] - 0s 19ms/step - loss: 0.0311 - val_loss: 0.1128\n",
      "Epoch 22/100\n",
      "4/4 [==============================] - 0s 19ms/step - loss: 0.0315 - val_loss: 0.0865\n",
      "Epoch 23/100\n",
      "4/4 [==============================] - 0s 24ms/step - loss: 0.0283 - val_loss: 0.0933\n",
      "Epoch 24/100\n",
      "4/4 [==============================] - 0s 23ms/step - loss: 0.0272 - val_loss: 0.1307\n",
      "Epoch 25/100\n",
      "4/4 [==============================] - 0s 17ms/step - loss: 0.0297 - val_loss: 0.0938\n",
      "Epoch 26/100\n",
      "4/4 [==============================] - 0s 27ms/step - loss: 0.0277 - val_loss: 0.1011\n",
      "Epoch 27/100\n",
      "4/4 [==============================] - 0s 24ms/step - loss: 0.0270 - val_loss: 0.0862\n",
      "Epoch 28/100\n",
      "4/4 [==============================] - 0s 20ms/step - loss: 0.0269 - val_loss: 0.0982\n",
      "Epoch 29/100\n",
      "4/4 [==============================] - 0s 20ms/step - loss: 0.0274 - val_loss: 0.0877\n",
      "Epoch 30/100\n",
      "4/4 [==============================] - 0s 23ms/step - loss: 0.0281 - val_loss: 0.1117\n",
      "Epoch 31/100\n",
      "4/4 [==============================] - 0s 23ms/step - loss: 0.0299 - val_loss: 0.0815\n",
      "Epoch 32/100\n",
      "4/4 [==============================] - 0s 23ms/step - loss: 0.0275 - val_loss: 0.0945\n",
      "Epoch 33/100\n",
      "4/4 [==============================] - 0s 22ms/step - loss: 0.0269 - val_loss: 0.0890\n",
      "Epoch 34/100\n",
      "4/4 [==============================] - 0s 23ms/step - loss: 0.0277 - val_loss: 0.0835\n",
      "Epoch 35/100\n",
      "4/4 [==============================] - 0s 22ms/step - loss: 0.0294 - val_loss: 0.0956\n",
      "Epoch 36/100\n",
      "4/4 [==============================] - 0s 24ms/step - loss: 0.0281 - val_loss: 0.0905\n",
      "Epoch 37/100\n",
      "4/4 [==============================] - 0s 23ms/step - loss: 0.0268 - val_loss: 0.1068\n",
      "Epoch 38/100\n",
      "4/4 [==============================] - 0s 22ms/step - loss: 0.0264 - val_loss: 0.0920\n",
      "Epoch 39/100\n",
      "4/4 [==============================] - 0s 21ms/step - loss: 0.0270 - val_loss: 0.0873\n",
      "Epoch 40/100\n",
      "4/4 [==============================] - 0s 19ms/step - loss: 0.0260 - val_loss: 0.1304\n",
      "Epoch 41/100\n",
      "4/4 [==============================] - 0s 20ms/step - loss: 0.0280 - val_loss: 0.1056\n",
      "Epoch 42/100\n",
      "4/4 [==============================] - 0s 20ms/step - loss: 0.0267 - val_loss: 0.0933\n",
      "Epoch 43/100\n",
      "4/4 [==============================] - 0s 21ms/step - loss: 0.0258 - val_loss: 0.1011\n",
      "Epoch 44/100\n",
      "4/4 [==============================] - 0s 25ms/step - loss: 0.0258 - val_loss: 0.0989\n",
      "Epoch 45/100\n",
      "4/4 [==============================] - 0s 23ms/step - loss: 0.0269 - val_loss: 0.0879\n",
      "Epoch 46/100\n",
      "4/4 [==============================] - 0s 23ms/step - loss: 0.0262 - val_loss: 0.0880\n",
      "Epoch 47/100\n",
      "4/4 [==============================] - 0s 22ms/step - loss: 0.0268 - val_loss: 0.0867\n",
      "Epoch 48/100\n",
      "4/4 [==============================] - 0s 21ms/step - loss: 0.0258 - val_loss: 0.0906\n",
      "Epoch 49/100\n",
      "4/4 [==============================] - 0s 27ms/step - loss: 0.0270 - val_loss: 0.1074\n",
      "Epoch 50/100\n",
      "4/4 [==============================] - 0s 23ms/step - loss: 0.0264 - val_loss: 0.0842\n",
      "Epoch 51/100\n",
      "4/4 [==============================] - 0s 23ms/step - loss: 0.0261 - val_loss: 0.0900\n",
      "Epoch 52/100\n",
      "4/4 [==============================] - 0s 23ms/step - loss: 0.0256 - val_loss: 0.0941\n",
      "Epoch 53/100\n",
      "4/4 [==============================] - 0s 21ms/step - loss: 0.0254 - val_loss: 0.0901\n",
      "Epoch 54/100\n",
      "4/4 [==============================] - 0s 19ms/step - loss: 0.0249 - val_loss: 0.0825\n",
      "Epoch 55/100\n",
      "4/4 [==============================] - 0s 20ms/step - loss: 0.0290 - val_loss: 0.0977\n",
      "Epoch 56/100\n",
      "4/4 [==============================] - 0s 19ms/step - loss: 0.0254 - val_loss: 0.1097\n",
      "Epoch 57/100\n",
      "4/4 [==============================] - 0s 21ms/step - loss: 0.0262 - val_loss: 0.0998\n",
      "Epoch 58/100\n",
      "4/4 [==============================] - 0s 23ms/step - loss: 0.0250 - val_loss: 0.0943\n",
      "Epoch 59/100\n",
      "4/4 [==============================] - 0s 23ms/step - loss: 0.0245 - val_loss: 0.1099\n",
      "Epoch 60/100\n",
      "4/4 [==============================] - 0s 22ms/step - loss: 0.0267 - val_loss: 0.0945\n",
      "Epoch 61/100\n",
      "4/4 [==============================] - 0s 22ms/step - loss: 0.0245 - val_loss: 0.0880\n",
      "Epoch 62/100\n",
      "4/4 [==============================] - 0s 22ms/step - loss: 0.0242 - val_loss: 0.0998\n",
      "Epoch 63/100\n",
      "4/4 [==============================] - 0s 22ms/step - loss: 0.0245 - val_loss: 0.0843\n",
      "Epoch 64/100\n",
      "4/4 [==============================] - 0s 21ms/step - loss: 0.0252 - val_loss: 0.0882\n",
      "Epoch 65/100\n",
      "4/4 [==============================] - 0s 22ms/step - loss: 0.0259 - val_loss: 0.0858\n",
      "Epoch 66/100\n",
      "4/4 [==============================] - 0s 22ms/step - loss: 0.0242 - val_loss: 0.0893\n",
      "Epoch 67/100\n",
      "4/4 [==============================] - 0s 21ms/step - loss: 0.0244 - val_loss: 0.0919\n",
      "Epoch 68/100\n",
      "4/4 [==============================] - 0s 20ms/step - loss: 0.0242 - val_loss: 0.0963\n",
      "Epoch 69/100\n",
      "4/4 [==============================] - 0s 22ms/step - loss: 0.0252 - val_loss: 0.0887\n",
      "Epoch 70/100\n",
      "4/4 [==============================] - 0s 24ms/step - loss: 0.0243 - val_loss: 0.0873\n",
      "Epoch 71/100\n",
      "4/4 [==============================] - 0s 23ms/step - loss: 0.0248 - val_loss: 0.0804\n",
      "Epoch 72/100\n",
      "4/4 [==============================] - 0s 20ms/step - loss: 0.0256 - val_loss: 0.0879\n",
      "Epoch 73/100\n",
      "4/4 [==============================] - 0s 20ms/step - loss: 0.0241 - val_loss: 0.0792\n",
      "Epoch 74/100\n",
      "4/4 [==============================] - 0s 22ms/step - loss: 0.0277 - val_loss: 0.0813\n",
      "Epoch 75/100\n",
      "4/4 [==============================] - 0s 24ms/step - loss: 0.0251 - val_loss: 0.0791\n",
      "Epoch 76/100\n",
      "4/4 [==============================] - 0s 20ms/step - loss: 0.0280 - val_loss: 0.1057\n",
      "Epoch 77/100\n",
      "4/4 [==============================] - 0s 21ms/step - loss: 0.0239 - val_loss: 0.1006\n",
      "Epoch 78/100\n",
      "4/4 [==============================] - 0s 19ms/step - loss: 0.0241 - val_loss: 0.1091\n",
      "Epoch 79/100\n",
      "4/4 [==============================] - 0s 21ms/step - loss: 0.0243 - val_loss: 0.1135\n",
      "Epoch 80/100\n",
      "4/4 [==============================] - 0s 20ms/step - loss: 0.0240 - val_loss: 0.0857\n",
      "Epoch 81/100\n",
      "4/4 [==============================] - 0s 27ms/step - loss: 0.0254 - val_loss: 0.0978\n",
      "Epoch 82/100\n",
      "4/4 [==============================] - 0s 22ms/step - loss: 0.0237 - val_loss: 0.0856\n",
      "Epoch 83/100\n",
      "4/4 [==============================] - 0s 22ms/step - loss: 0.0232 - val_loss: 0.0855\n"
     ]
    },
    {
     "name": "stdout",
     "output_type": "stream",
     "text": [
      "Epoch 84/100\n",
      "4/4 [==============================] - 0s 22ms/step - loss: 0.0236 - val_loss: 0.1089\n",
      "Epoch 85/100\n",
      "4/4 [==============================] - 0s 23ms/step - loss: 0.0232 - val_loss: 0.0892\n",
      "Epoch 86/100\n",
      "4/4 [==============================] - 0s 20ms/step - loss: 0.0229 - val_loss: 0.0896\n",
      "Epoch 87/100\n",
      "4/4 [==============================] - 0s 20ms/step - loss: 0.0237 - val_loss: 0.0788\n",
      "Epoch 88/100\n",
      "4/4 [==============================] - 0s 20ms/step - loss: 0.0250 - val_loss: 0.0891\n",
      "Epoch 89/100\n",
      "4/4 [==============================] - 0s 23ms/step - loss: 0.0239 - val_loss: 0.0822\n",
      "Epoch 90/100\n",
      "4/4 [==============================] - 0s 24ms/step - loss: 0.0229 - val_loss: 0.1010\n",
      "Epoch 91/100\n",
      "4/4 [==============================] - 0s 22ms/step - loss: 0.0239 - val_loss: 0.1225\n",
      "Epoch 92/100\n",
      "4/4 [==============================] - 0s 22ms/step - loss: 0.0273 - val_loss: 0.0964\n",
      "Epoch 93/100\n",
      "4/4 [==============================] - 0s 23ms/step - loss: 0.0229 - val_loss: 0.1029\n",
      "Epoch 94/100\n",
      "4/4 [==============================] - 0s 22ms/step - loss: 0.0239 - val_loss: 0.0838\n",
      "Epoch 95/100\n",
      "4/4 [==============================] - 0s 22ms/step - loss: 0.0224 - val_loss: 0.1030\n",
      "Epoch 96/100\n",
      "4/4 [==============================] - 0s 23ms/step - loss: 0.0243 - val_loss: 0.0975\n",
      "Epoch 97/100\n",
      "4/4 [==============================] - 0s 25ms/step - loss: 0.0237 - val_loss: 0.1033\n",
      "Epoch 98/100\n",
      "4/4 [==============================] - 0s 24ms/step - loss: 0.0244 - val_loss: 0.0829\n",
      "Epoch 99/100\n",
      "4/4 [==============================] - 0s 22ms/step - loss: 0.0235 - val_loss: 0.0961\n",
      "Epoch 100/100\n",
      "4/4 [==============================] - 0s 23ms/step - loss: 0.0225 - val_loss: 0.0847\n"
     ]
    },
    {
     "data": {
      "text/plain": [
       "<tensorflow.python.keras.callbacks.History at 0x2c6406f1cd0>"
      ]
     },
     "execution_count": 9,
     "metadata": {},
     "output_type": "execute_result"
    }
   ],
   "source": [
    "model.fit(X, y, epochs=100, validation_split=0.25)"
   ]
  },
  {
   "cell_type": "code",
   "execution_count": 10,
   "id": "90126987",
   "metadata": {},
   "outputs": [],
   "source": [
    "h = model.history.history"
   ]
  },
  {
   "cell_type": "code",
   "execution_count": 12,
   "id": "4bdbd94a",
   "metadata": {},
   "outputs": [
    {
     "data": {
      "text/plain": [
       "(0.0, 1.0)"
      ]
     },
     "execution_count": 12,
     "metadata": {},
     "output_type": "execute_result"
    },
    {
     "data": {
      "image/png": "[encoded data removed]",
      "text/plain": [
       "<Figure size 432x288 with 1 Axes>"
      ]
     },
     "metadata": {
      "needs_background": "light"
     },
     "output_type": "display_data"
    }
   ],
   "source": [
    "plt.plot(h['loss'])\n",
    "plt.plot(h['val_loss'])\n",
    "plt.legend(['loss', 'val_loss'])\n",
    "plt.ylim(0,1)"
   ]
  },
  {
   "cell_type": "code",
   "execution_count": null,
   "id": "3e259985",
   "metadata": {},
   "outputs": [],
   "source": []
  },
  {
   "cell_type": "markdown",
   "id": "d6bdcc54",
   "metadata": {},
   "source": [
    "### 중간층 추가"
   ]
  },
  {
   "cell_type": "code",
   "execution_count": 46,
   "id": "2850ffd9",
   "metadata": {},
   "outputs": [
    {
     "name": "stdout",
     "output_type": "stream",
     "text": [
      "Model: \"sequential_9\"\n",
      "_________________________________________________________________\n",
      "Layer (type)                 Output Shape              Param #   \n",
      "=================================================================\n",
      "dense_10 (Dense)             (None, 2)                 8         \n",
      "_________________________________________________________________\n",
      "dense_11 (Dense)             (None, 1)                 3         \n",
      "=================================================================\n",
      "Total params: 11\n",
      "Trainable params: 11\n",
      "Non-trainable params: 0\n",
      "_________________________________________________________________\n"
     ]
    }
   ],
   "source": [
    "model = keras.models.Sequential()\n",
    "model.add(keras.layers.Dense(2, input_shape=(3,), activation='relu'))\n",
    "model.add(keras.layers.Dense(1))\n",
    "model.summary()"
   ]
  },
  {
   "cell_type": "code",
   "execution_count": 47,
   "id": "d86e8bd4",
   "metadata": {},
   "outputs": [],
   "source": [
    "model.compile(loss='mse', optimizer='sgd')"
   ]
  },
  {
   "cell_type": "code",
   "execution_count": 48,
   "id": "aca99474",
   "metadata": {
    "scrolled": true
   },
   "outputs": [
    {
     "name": "stdout",
     "output_type": "stream",
     "text": [
      "Epoch 1/100\n",
      "4/4 [==============================] - 0s 34ms/step - loss: 6.2509 - val_loss: 1.9017\n",
      "Epoch 2/100\n",
      "4/4 [==============================] - 0s 11ms/step - loss: 0.6943 - val_loss: 1.6569\n",
      "Epoch 3/100\n",
      "4/4 [==============================] - 0s 14ms/step - loss: 0.6332 - val_loss: 1.5742\n",
      "Epoch 4/100\n",
      "4/4 [==============================] - 0s 13ms/step - loss: 0.5980 - val_loss: 1.2943\n",
      "Epoch 5/100\n",
      "4/4 [==============================] - 0s 12ms/step - loss: 0.5742 - val_loss: 1.3382\n",
      "Epoch 6/100\n",
      "4/4 [==============================] - 0s 13ms/step - loss: 0.5390 - val_loss: 1.5945\n",
      "Epoch 7/100\n",
      "4/4 [==============================] - 0s 12ms/step - loss: 0.5233 - val_loss: 1.4687\n",
      "Epoch 8/100\n",
      "4/4 [==============================] - 0s 13ms/step - loss: 0.5038 - val_loss: 1.5047\n",
      "Epoch 9/100\n",
      "4/4 [==============================] - 0s 12ms/step - loss: 0.4913 - val_loss: 1.4922\n",
      "Epoch 10/100\n",
      "4/4 [==============================] - 0s 13ms/step - loss: 0.4821 - val_loss: 1.0086\n",
      "Epoch 11/100\n",
      "4/4 [==============================] - 0s 13ms/step - loss: 0.4637 - val_loss: 1.3520\n",
      "Epoch 12/100\n",
      "4/4 [==============================] - 0s 11ms/step - loss: 0.4549 - val_loss: 1.2497\n",
      "Epoch 13/100\n",
      "4/4 [==============================] - 0s 13ms/step - loss: 0.4441 - val_loss: 1.3174\n",
      "Epoch 14/100\n",
      "4/4 [==============================] - 0s 12ms/step - loss: 0.4335 - val_loss: 1.1179\n",
      "Epoch 15/100\n",
      "4/4 [==============================] - 0s 12ms/step - loss: 0.4239 - val_loss: 0.9204\n",
      "Epoch 16/100\n",
      "4/4 [==============================] - 0s 12ms/step - loss: 0.4268 - val_loss: 0.7945\n",
      "Epoch 17/100\n",
      "4/4 [==============================] - 0s 12ms/step - loss: 0.4197 - val_loss: 0.8409\n",
      "Epoch 18/100\n",
      "4/4 [==============================] - 0s 13ms/step - loss: 0.4071 - val_loss: 0.8578\n",
      "Epoch 19/100\n",
      "4/4 [==============================] - 0s 13ms/step - loss: 0.3980 - val_loss: 0.8046\n",
      "Epoch 20/100\n",
      "4/4 [==============================] - 0s 12ms/step - loss: 0.3919 - val_loss: 1.0332\n",
      "Epoch 21/100\n",
      "4/4 [==============================] - 0s 13ms/step - loss: 0.3926 - val_loss: 0.9770\n",
      "Epoch 22/100\n",
      "4/4 [==============================] - 0s 13ms/step - loss: 0.3790 - val_loss: 0.8919\n",
      "Epoch 23/100\n",
      "4/4 [==============================] - 0s 12ms/step - loss: 0.3691 - val_loss: 1.0388\n",
      "Epoch 24/100\n",
      "4/4 [==============================] - 0s 11ms/step - loss: 0.3709 - val_loss: 1.0792\n",
      "Epoch 25/100\n",
      "4/4 [==============================] - 0s 15ms/step - loss: 0.3655 - val_loss: 0.9831\n",
      "Epoch 26/100\n",
      "4/4 [==============================] - 0s 11ms/step - loss: 0.3546 - val_loss: 0.7687\n",
      "Epoch 27/100\n",
      "4/4 [==============================] - 0s 11ms/step - loss: 0.3518 - val_loss: 0.7768\n",
      "Epoch 28/100\n",
      "4/4 [==============================] - 0s 11ms/step - loss: 0.3480 - val_loss: 0.6155\n",
      "Epoch 29/100\n",
      "4/4 [==============================] - 0s 11ms/step - loss: 0.3415 - val_loss: 1.0863\n",
      "Epoch 30/100\n",
      "4/4 [==============================] - 0s 11ms/step - loss: 0.3400 - val_loss: 0.9829\n",
      "Epoch 31/100\n",
      "4/4 [==============================] - 0s 12ms/step - loss: 0.3300 - val_loss: 0.7061\n",
      "Epoch 32/100\n",
      "4/4 [==============================] - 0s 11ms/step - loss: 0.3278 - val_loss: 1.0394\n",
      "Epoch 33/100\n",
      "4/4 [==============================] - 0s 12ms/step - loss: 0.3281 - val_loss: 0.9366\n",
      "Epoch 34/100\n",
      "4/4 [==============================] - 0s 12ms/step - loss: 0.3214 - val_loss: 0.9014\n",
      "Epoch 35/100\n",
      "4/4 [==============================] - 0s 10ms/step - loss: 0.3125 - val_loss: 0.4821\n",
      "Epoch 36/100\n",
      "4/4 [==============================] - 0s 12ms/step - loss: 0.3244 - val_loss: 0.6610\n",
      "Epoch 37/100\n",
      "4/4 [==============================] - 0s 11ms/step - loss: 0.3172 - val_loss: 0.7393\n",
      "Epoch 38/100\n",
      "4/4 [==============================] - 0s 11ms/step - loss: 0.3016 - val_loss: 0.8585\n",
      "Epoch 39/100\n",
      "4/4 [==============================] - 0s 13ms/step - loss: 0.2962 - val_loss: 0.4937\n",
      "Epoch 40/100\n",
      "4/4 [==============================] - 0s 12ms/step - loss: 0.3200 - val_loss: 0.4584\n",
      "Epoch 41/100\n",
      "4/4 [==============================] - 0s 12ms/step - loss: 0.2980 - val_loss: 0.7233\n",
      "Epoch 42/100\n",
      "4/4 [==============================] - 0s 12ms/step - loss: 0.2857 - val_loss: 0.5055\n",
      "Epoch 43/100\n",
      "4/4 [==============================] - 0s 12ms/step - loss: 0.2878 - val_loss: 0.8216\n",
      "Epoch 44/100\n",
      "4/4 [==============================] - 0s 11ms/step - loss: 0.2817 - val_loss: 0.8172\n",
      "Epoch 45/100\n",
      "4/4 [==============================] - 0s 12ms/step - loss: 0.2752 - val_loss: 0.7435\n",
      "Epoch 46/100\n",
      "4/4 [==============================] - 0s 11ms/step - loss: 0.2725 - val_loss: 0.8271\n",
      "Epoch 47/100\n",
      "4/4 [==============================] - 0s 12ms/step - loss: 0.2670 - val_loss: 0.6699\n",
      "Epoch 48/100\n",
      "4/4 [==============================] - 0s 11ms/step - loss: 0.2632 - val_loss: 0.7159\n",
      "Epoch 49/100\n",
      "4/4 [==============================] - 0s 11ms/step - loss: 0.2626 - val_loss: 0.6540\n",
      "Epoch 50/100\n",
      "4/4 [==============================] - 0s 12ms/step - loss: 0.2568 - val_loss: 0.5341\n",
      "Epoch 51/100\n",
      "4/4 [==============================] - 0s 11ms/step - loss: 0.2532 - val_loss: 0.4908\n",
      "Epoch 52/100\n",
      "4/4 [==============================] - 0s 11ms/step - loss: 0.2491 - val_loss: 0.6464\n",
      "Epoch 53/100\n",
      "4/4 [==============================] - 0s 12ms/step - loss: 0.2435 - val_loss: 0.4789\n",
      "Epoch 54/100\n",
      "4/4 [==============================] - 0s 11ms/step - loss: 0.2437 - val_loss: 0.3096\n",
      "Epoch 55/100\n",
      "4/4 [==============================] - 0s 11ms/step - loss: 0.2443 - val_loss: 0.5967\n",
      "Epoch 56/100\n",
      "4/4 [==============================] - 0s 11ms/step - loss: 0.2394 - val_loss: 0.4826\n",
      "Epoch 57/100\n",
      "4/4 [==============================] - 0s 11ms/step - loss: 0.2366 - val_loss: 0.7326\n",
      "Epoch 58/100\n",
      "4/4 [==============================] - 0s 11ms/step - loss: 0.2290 - val_loss: 0.4636\n",
      "Epoch 59/100\n",
      "4/4 [==============================] - 0s 11ms/step - loss: 0.2219 - val_loss: 0.5819\n",
      "Epoch 60/100\n",
      "4/4 [==============================] - 0s 11ms/step - loss: 0.2151 - val_loss: 0.4176\n",
      "Epoch 61/100\n",
      "4/4 [==============================] - 0s 12ms/step - loss: 0.2247 - val_loss: 0.4818\n",
      "Epoch 62/100\n",
      "4/4 [==============================] - 0s 12ms/step - loss: 0.2104 - val_loss: 0.5835\n",
      "Epoch 63/100\n",
      "4/4 [==============================] - 0s 12ms/step - loss: 0.2119 - val_loss: 0.5638\n",
      "Epoch 64/100\n",
      "4/4 [==============================] - 0s 12ms/step - loss: 0.2028 - val_loss: 0.5583\n",
      "Epoch 65/100\n",
      "4/4 [==============================] - 0s 12ms/step - loss: 0.2025 - val_loss: 0.5213\n",
      "Epoch 66/100\n",
      "4/4 [==============================] - 0s 12ms/step - loss: 0.1972 - val_loss: 0.4614\n",
      "Epoch 67/100\n",
      "4/4 [==============================] - 0s 13ms/step - loss: 0.1887 - val_loss: 0.6116\n",
      "Epoch 68/100\n",
      "4/4 [==============================] - 0s 12ms/step - loss: 0.1893 - val_loss: 0.5234\n",
      "Epoch 69/100\n",
      "4/4 [==============================] - 0s 11ms/step - loss: 0.1843 - val_loss: 0.3469\n",
      "Epoch 70/100\n",
      "4/4 [==============================] - 0s 12ms/step - loss: 0.1831 - val_loss: 0.3863\n",
      "Epoch 71/100\n",
      "4/4 [==============================] - 0s 11ms/step - loss: 0.1760 - val_loss: 0.4619\n",
      "Epoch 72/100\n",
      "4/4 [==============================] - 0s 11ms/step - loss: 0.1726 - val_loss: 0.2702\n",
      "Epoch 73/100\n",
      "4/4 [==============================] - 0s 11ms/step - loss: 0.1765 - val_loss: 0.3645\n",
      "Epoch 74/100\n",
      "4/4 [==============================] - 0s 11ms/step - loss: 0.1677 - val_loss: 0.3637\n",
      "Epoch 75/100\n",
      "4/4 [==============================] - 0s 12ms/step - loss: 0.1617 - val_loss: 0.2867\n",
      "Epoch 76/100\n",
      "4/4 [==============================] - 0s 15ms/step - loss: 0.1634 - val_loss: 0.2278\n",
      "Epoch 77/100\n",
      "4/4 [==============================] - 0s 11ms/step - loss: 0.1604 - val_loss: 0.3894\n",
      "Epoch 78/100\n",
      "4/4 [==============================] - 0s 12ms/step - loss: 0.1484 - val_loss: 0.3835\n",
      "Epoch 79/100\n",
      "4/4 [==============================] - 0s 11ms/step - loss: 0.1442 - val_loss: 0.3695\n",
      "Epoch 80/100\n",
      "4/4 [==============================] - 0s 11ms/step - loss: 0.1407 - val_loss: 0.4161\n",
      "Epoch 81/100\n",
      "4/4 [==============================] - 0s 11ms/step - loss: 0.1378 - val_loss: 0.3419\n",
      "Epoch 82/100\n",
      "4/4 [==============================] - 0s 11ms/step - loss: 0.1351 - val_loss: 0.3228\n",
      "Epoch 83/100\n",
      "4/4 [==============================] - 0s 12ms/step - loss: 0.1338 - val_loss: 0.2738\n"
     ]
    },
    {
     "name": "stdout",
     "output_type": "stream",
     "text": [
      "Epoch 84/100\n",
      "4/4 [==============================] - 0s 11ms/step - loss: 0.1286 - val_loss: 0.3684\n",
      "Epoch 85/100\n",
      "4/4 [==============================] - 0s 11ms/step - loss: 0.1236 - val_loss: 0.2438\n",
      "Epoch 86/100\n",
      "4/4 [==============================] - 0s 12ms/step - loss: 0.1272 - val_loss: 0.2694\n",
      "Epoch 87/100\n",
      "4/4 [==============================] - 0s 12ms/step - loss: 0.1152 - val_loss: 0.3943\n",
      "Epoch 88/100\n",
      "4/4 [==============================] - 0s 11ms/step - loss: 0.1156 - val_loss: 0.4069\n",
      "Epoch 89/100\n",
      "4/4 [==============================] - 0s 11ms/step - loss: 0.1101 - val_loss: 0.3161\n",
      "Epoch 90/100\n",
      "4/4 [==============================] - 0s 11ms/step - loss: 0.1047 - val_loss: 0.3013\n",
      "Epoch 91/100\n",
      "4/4 [==============================] - 0s 12ms/step - loss: 0.1019 - val_loss: 0.3535\n",
      "Epoch 92/100\n",
      "4/4 [==============================] - 0s 12ms/step - loss: 0.0986 - val_loss: 0.2516\n",
      "Epoch 93/100\n",
      "4/4 [==============================] - 0s 11ms/step - loss: 0.0950 - val_loss: 0.2607\n",
      "Epoch 94/100\n",
      "4/4 [==============================] - 0s 11ms/step - loss: 0.0923 - val_loss: 0.3482\n",
      "Epoch 95/100\n",
      "4/4 [==============================] - 0s 11ms/step - loss: 0.0897 - val_loss: 0.2681\n",
      "Epoch 96/100\n",
      "4/4 [==============================] - 0s 11ms/step - loss: 0.0857 - val_loss: 0.2709\n",
      "Epoch 97/100\n",
      "4/4 [==============================] - 0s 11ms/step - loss: 0.0823 - val_loss: 0.2074\n",
      "Epoch 98/100\n",
      "4/4 [==============================] - 0s 11ms/step - loss: 0.0796 - val_loss: 0.2593\n",
      "Epoch 99/100\n",
      "4/4 [==============================] - 0s 10ms/step - loss: 0.0764 - val_loss: 0.2059\n",
      "Epoch 100/100\n",
      "4/4 [==============================] - 0s 11ms/step - loss: 0.0773 - val_loss: 0.2282\n"
     ]
    },
    {
     "data": {
      "text/plain": [
       "<tensorflow.python.keras.callbacks.History at 0x247db4d85e0>"
      ]
     },
     "execution_count": 48,
     "metadata": {},
     "output_type": "execute_result"
    }
   ],
   "source": [
    "model.fit(X, y, epochs=100, validation_split=0.25)"
   ]
  },
  {
   "cell_type": "code",
   "execution_count": 49,
   "id": "7f42a3d4",
   "metadata": {},
   "outputs": [],
   "source": [
    "h = model.history.history"
   ]
  },
  {
   "cell_type": "code",
   "execution_count": 50,
   "id": "3dd4c232",
   "metadata": {},
   "outputs": [
    {
     "data": {
      "text/plain": [
       "<matplotlib.legend.Legend at 0x247dd5dffd0>"
      ]
     },
     "execution_count": 50,
     "metadata": {},
     "output_type": "execute_result"
    },
    {
     "data": {
      "image/png": "[encoded data removed]",
      "text/plain": [
       "<Figure size 432x288 with 1 Axes>"
      ]
     },
     "metadata": {
      "needs_background": "light"
     },
     "output_type": "display_data"
    }
   ],
   "source": [
    "plt.plot(h['loss'])\n",
    "plt.plot(h['val_loss'])\n",
    "plt.legend(['loss', 'val_loss'])"
   ]
  },
  {
   "cell_type": "code",
   "execution_count": null,
   "id": "288d83f5",
   "metadata": {},
   "outputs": [],
   "source": []
  },
  {
   "cell_type": "code",
   "execution_count": 51,
   "id": "3edad3ea",
   "metadata": {},
   "outputs": [
    {
     "name": "stdout",
     "output_type": "stream",
     "text": [
      "Model: \"sequential_10\"\n",
      "_________________________________________________________________\n",
      "Layer (type)                 Output Shape              Param #   \n",
      "=================================================================\n",
      "dense_12 (Dense)             (None, 10)                40        \n",
      "_________________________________________________________________\n",
      "dense_13 (Dense)             (None, 5)                 55        \n",
      "_________________________________________________________________\n",
      "dense_14 (Dense)             (None, 1)                 6         \n",
      "=================================================================\n",
      "Total params: 101\n",
      "Trainable params: 101\n",
      "Non-trainable params: 0\n",
      "_________________________________________________________________\n"
     ]
    }
   ],
   "source": [
    "model = keras.models.Sequential()\n",
    "model.add(keras.layers.Dense(10, input_shape=(3,), activation='relu'))\n",
    "model.add(keras.layers.Dense(5, activation='relu'))\n",
    "model.add(keras.layers.Dense(1))\n",
    "model.summary()"
   ]
  },
  {
   "cell_type": "code",
   "execution_count": 52,
   "id": "5879a65b",
   "metadata": {},
   "outputs": [],
   "source": [
    "model.compile(loss='mse', optimizer='sgd')"
   ]
  },
  {
   "cell_type": "code",
   "execution_count": 53,
   "id": "9605a29c",
   "metadata": {
    "scrolled": true
   },
   "outputs": [
    {
     "name": "stdout",
     "output_type": "stream",
     "text": [
      "Epoch 1/100\n",
      "4/4 [==============================] - 0s 36ms/step - loss: 6.5363 - val_loss: 1.6671\n",
      "Epoch 2/100\n",
      "4/4 [==============================] - 0s 13ms/step - loss: 0.4337 - val_loss: 0.7799\n",
      "Epoch 3/100\n",
      "4/4 [==============================] - 0s 13ms/step - loss: 0.3578 - val_loss: 0.5129\n",
      "Epoch 4/100\n",
      "4/4 [==============================] - 0s 14ms/step - loss: 0.3164 - val_loss: 0.6628\n",
      "Epoch 5/100\n",
      "4/4 [==============================] - 0s 13ms/step - loss: 0.2686 - val_loss: 0.5570\n",
      "Epoch 6/100\n",
      "4/4 [==============================] - 0s 14ms/step - loss: 0.2392 - val_loss: 0.6373\n",
      "Epoch 7/100\n",
      "4/4 [==============================] - 0s 15ms/step - loss: 0.2133 - val_loss: 0.5700\n",
      "Epoch 8/100\n",
      "4/4 [==============================] - 0s 16ms/step - loss: 0.1922 - val_loss: 0.5501\n",
      "Epoch 9/100\n",
      "4/4 [==============================] - 0s 15ms/step - loss: 0.1761 - val_loss: 0.3318\n",
      "Epoch 10/100\n",
      "4/4 [==============================] - 0s 12ms/step - loss: 0.1667 - val_loss: 0.4656\n",
      "Epoch 11/100\n",
      "4/4 [==============================] - 0s 12ms/step - loss: 0.1515 - val_loss: 0.4607\n",
      "Epoch 12/100\n",
      "4/4 [==============================] - 0s 12ms/step - loss: 0.1354 - val_loss: 0.3357\n",
      "Epoch 13/100\n",
      "4/4 [==============================] - 0s 13ms/step - loss: 0.1240 - val_loss: 0.2824\n",
      "Epoch 14/100\n",
      "4/4 [==============================] - 0s 12ms/step - loss: 0.1138 - val_loss: 0.2757\n",
      "Epoch 15/100\n",
      "4/4 [==============================] - 0s 13ms/step - loss: 0.1033 - val_loss: 0.2969\n",
      "Epoch 16/100\n",
      "4/4 [==============================] - 0s 13ms/step - loss: 0.0930 - val_loss: 0.3103\n",
      "Epoch 17/100\n",
      "4/4 [==============================] - 0s 12ms/step - loss: 0.0846 - val_loss: 0.2920\n",
      "Epoch 18/100\n",
      "4/4 [==============================] - 0s 11ms/step - loss: 0.0769 - val_loss: 0.2391\n",
      "Epoch 19/100\n",
      "4/4 [==============================] - 0s 13ms/step - loss: 0.0702 - val_loss: 0.1874\n",
      "Epoch 20/100\n",
      "4/4 [==============================] - 0s 12ms/step - loss: 0.0652 - val_loss: 0.1994\n",
      "Epoch 21/100\n",
      "4/4 [==============================] - 0s 13ms/step - loss: 0.0579 - val_loss: 0.2857\n",
      "Epoch 22/100\n",
      "4/4 [==============================] - 0s 13ms/step - loss: 0.0535 - val_loss: 0.2177\n",
      "Epoch 23/100\n",
      "4/4 [==============================] - 0s 13ms/step - loss: 0.0479 - val_loss: 0.2032\n",
      "Epoch 24/100\n",
      "4/4 [==============================] - 0s 12ms/step - loss: 0.0435 - val_loss: 0.1930\n",
      "Epoch 25/100\n",
      "4/4 [==============================] - 0s 13ms/step - loss: 0.0402 - val_loss: 0.1499\n",
      "Epoch 26/100\n",
      "4/4 [==============================] - 0s 13ms/step - loss: 0.0370 - val_loss: 0.1826\n",
      "Epoch 27/100\n",
      "4/4 [==============================] - 0s 12ms/step - loss: 0.0338 - val_loss: 0.2001\n",
      "Epoch 28/100\n",
      "4/4 [==============================] - 0s 13ms/step - loss: 0.0316 - val_loss: 0.1524\n",
      "Epoch 29/100\n",
      "4/4 [==============================] - 0s 13ms/step - loss: 0.0301 - val_loss: 0.1731\n",
      "Epoch 30/100\n",
      "4/4 [==============================] - 0s 12ms/step - loss: 0.0288 - val_loss: 0.1953\n",
      "Epoch 31/100\n",
      "4/4 [==============================] - 0s 14ms/step - loss: 0.0277 - val_loss: 0.1855\n",
      "Epoch 32/100\n",
      "4/4 [==============================] - 0s 12ms/step - loss: 0.0265 - val_loss: 0.1418\n",
      "Epoch 33/100\n",
      "4/4 [==============================] - 0s 12ms/step - loss: 0.0254 - val_loss: 0.1430\n",
      "Epoch 34/100\n",
      "4/4 [==============================] - 0s 14ms/step - loss: 0.0254 - val_loss: 0.1337\n",
      "Epoch 35/100\n",
      "4/4 [==============================] - 0s 13ms/step - loss: 0.0244 - val_loss: 0.1304\n",
      "Epoch 36/100\n",
      "4/4 [==============================] - 0s 13ms/step - loss: 0.0228 - val_loss: 0.1096\n",
      "Epoch 37/100\n",
      "4/4 [==============================] - 0s 11ms/step - loss: 0.0229 - val_loss: 0.1495\n",
      "Epoch 38/100\n",
      "4/4 [==============================] - 0s 13ms/step - loss: 0.0227 - val_loss: 0.1447\n",
      "Epoch 39/100\n",
      "4/4 [==============================] - 0s 12ms/step - loss: 0.0215 - val_loss: 0.1313\n",
      "Epoch 40/100\n",
      "4/4 [==============================] - 0s 14ms/step - loss: 0.0216 - val_loss: 0.1130\n",
      "Epoch 41/100\n",
      "4/4 [==============================] - 0s 18ms/step - loss: 0.0221 - val_loss: 0.1368\n",
      "Epoch 42/100\n",
      "4/4 [==============================] - 0s 12ms/step - loss: 0.0216 - val_loss: 0.1346\n",
      "Epoch 43/100\n",
      "4/4 [==============================] - 0s 10ms/step - loss: 0.0209 - val_loss: 0.1377\n",
      "Epoch 44/100\n",
      "4/4 [==============================] - 0s 11ms/step - loss: 0.0237 - val_loss: 0.1272\n",
      "Epoch 45/100\n",
      "4/4 [==============================] - 0s 11ms/step - loss: 0.0208 - val_loss: 0.1148\n",
      "Epoch 46/100\n",
      "4/4 [==============================] - 0s 12ms/step - loss: 0.0212 - val_loss: 0.1377\n",
      "Epoch 47/100\n",
      "4/4 [==============================] - 0s 12ms/step - loss: 0.0212 - val_loss: 0.1435\n",
      "Epoch 48/100\n",
      "4/4 [==============================] - 0s 11ms/step - loss: 0.0209 - val_loss: 0.1292\n",
      "Epoch 49/100\n",
      "4/4 [==============================] - 0s 11ms/step - loss: 0.0205 - val_loss: 0.1338\n",
      "Epoch 50/100\n",
      "4/4 [==============================] - 0s 11ms/step - loss: 0.0205 - val_loss: 0.1087\n",
      "Epoch 51/100\n",
      "4/4 [==============================] - 0s 12ms/step - loss: 0.0213 - val_loss: 0.1258\n",
      "Epoch 52/100\n",
      "4/4 [==============================] - 0s 13ms/step - loss: 0.0203 - val_loss: 0.1090\n",
      "Epoch 53/100\n",
      "4/4 [==============================] - 0s 12ms/step - loss: 0.0215 - val_loss: 0.1154\n",
      "Epoch 54/100\n",
      "4/4 [==============================] - 0s 12ms/step - loss: 0.0207 - val_loss: 0.1147\n",
      "Epoch 55/100\n",
      "4/4 [==============================] - 0s 10ms/step - loss: 0.0211 - val_loss: 0.1022\n",
      "Epoch 56/100\n",
      "4/4 [==============================] - 0s 12ms/step - loss: 0.0210 - val_loss: 0.1355\n",
      "Epoch 57/100\n",
      "4/4 [==============================] - 0s 12ms/step - loss: 0.0210 - val_loss: 0.1173\n",
      "Epoch 58/100\n",
      "4/4 [==============================] - 0s 12ms/step - loss: 0.0211 - val_loss: 0.1082\n",
      "Epoch 59/100\n",
      "4/4 [==============================] - 0s 12ms/step - loss: 0.0213 - val_loss: 0.1391\n",
      "Epoch 60/100\n",
      "4/4 [==============================] - 0s 11ms/step - loss: 0.0203 - val_loss: 0.1236\n",
      "Epoch 61/100\n",
      "4/4 [==============================] - 0s 13ms/step - loss: 0.0204 - val_loss: 0.0989\n",
      "Epoch 62/100\n",
      "4/4 [==============================] - 0s 12ms/step - loss: 0.0225 - val_loss: 0.1249\n",
      "Epoch 63/100\n",
      "4/4 [==============================] - 0s 12ms/step - loss: 0.0204 - val_loss: 0.1520\n",
      "Epoch 64/100\n",
      "4/4 [==============================] - 0s 12ms/step - loss: 0.0226 - val_loss: 0.1285\n",
      "Epoch 65/100\n",
      "4/4 [==============================] - 0s 13ms/step - loss: 0.0208 - val_loss: 0.1447\n",
      "Epoch 66/100\n",
      "4/4 [==============================] - 0s 13ms/step - loss: 0.0210 - val_loss: 0.1425\n",
      "Epoch 67/100\n",
      "4/4 [==============================] - 0s 12ms/step - loss: 0.0206 - val_loss: 0.0995\n",
      "Epoch 68/100\n",
      "4/4 [==============================] - 0s 13ms/step - loss: 0.0224 - val_loss: 0.1154\n",
      "Epoch 69/100\n",
      "4/4 [==============================] - 0s 12ms/step - loss: 0.0205 - val_loss: 0.0969\n",
      "Epoch 70/100\n",
      "4/4 [==============================] - 0s 12ms/step - loss: 0.0225 - val_loss: 0.1050\n",
      "Epoch 71/100\n",
      "4/4 [==============================] - 0s 12ms/step - loss: 0.0216 - val_loss: 0.1065\n",
      "Epoch 72/100\n",
      "4/4 [==============================] - 0s 12ms/step - loss: 0.0203 - val_loss: 0.1297\n",
      "Epoch 73/100\n",
      "4/4 [==============================] - 0s 12ms/step - loss: 0.0200 - val_loss: 0.1252\n",
      "Epoch 74/100\n",
      "4/4 [==============================] - 0s 12ms/step - loss: 0.0208 - val_loss: 0.0985\n",
      "Epoch 75/100\n",
      "4/4 [==============================] - 0s 11ms/step - loss: 0.0205 - val_loss: 0.1292\n",
      "Epoch 76/100\n",
      "4/4 [==============================] - 0s 12ms/step - loss: 0.0205 - val_loss: 0.1054\n",
      "Epoch 77/100\n",
      "4/4 [==============================] - 0s 11ms/step - loss: 0.0208 - val_loss: 0.1317\n",
      "Epoch 78/100\n",
      "4/4 [==============================] - 0s 12ms/step - loss: 0.0201 - val_loss: 0.1125\n",
      "Epoch 79/100\n",
      "4/4 [==============================] - 0s 12ms/step - loss: 0.0201 - val_loss: 0.1368\n",
      "Epoch 80/100\n",
      "4/4 [==============================] - 0s 11ms/step - loss: 0.0204 - val_loss: 0.1097\n",
      "Epoch 81/100\n",
      "4/4 [==============================] - 0s 12ms/step - loss: 0.0203 - val_loss: 0.1259\n",
      "Epoch 82/100\n",
      "4/4 [==============================] - 0s 12ms/step - loss: 0.0204 - val_loss: 0.1316\n",
      "Epoch 83/100\n",
      "4/4 [==============================] - 0s 12ms/step - loss: 0.0201 - val_loss: 0.1344\n"
     ]
    },
    {
     "name": "stdout",
     "output_type": "stream",
     "text": [
      "Epoch 84/100\n",
      "4/4 [==============================] - 0s 11ms/step - loss: 0.0201 - val_loss: 0.1305\n",
      "Epoch 85/100\n",
      "4/4 [==============================] - 0s 11ms/step - loss: 0.0200 - val_loss: 0.1207\n",
      "Epoch 86/100\n",
      "4/4 [==============================] - 0s 11ms/step - loss: 0.0204 - val_loss: 0.1470\n",
      "Epoch 87/100\n",
      "4/4 [==============================] - 0s 11ms/step - loss: 0.0209 - val_loss: 0.1278\n",
      "Epoch 88/100\n",
      "4/4 [==============================] - 0s 11ms/step - loss: 0.0211 - val_loss: 0.1082\n",
      "Epoch 89/100\n",
      "4/4 [==============================] - 0s 12ms/step - loss: 0.0207 - val_loss: 0.1272\n",
      "Epoch 90/100\n",
      "4/4 [==============================] - 0s 12ms/step - loss: 0.0198 - val_loss: 0.1285\n",
      "Epoch 91/100\n",
      "4/4 [==============================] - 0s 11ms/step - loss: 0.0203 - val_loss: 0.1347\n",
      "Epoch 92/100\n",
      "4/4 [==============================] - 0s 12ms/step - loss: 0.0211 - val_loss: 0.1275\n",
      "Epoch 93/100\n",
      "4/4 [==============================] - 0s 11ms/step - loss: 0.0198 - val_loss: 0.1042\n",
      "Epoch 94/100\n",
      "4/4 [==============================] - 0s 11ms/step - loss: 0.0204 - val_loss: 0.1085\n",
      "Epoch 95/100\n",
      "4/4 [==============================] - 0s 13ms/step - loss: 0.0208 - val_loss: 0.1161\n",
      "Epoch 96/100\n",
      "4/4 [==============================] - 0s 11ms/step - loss: 0.0196 - val_loss: 0.1341\n",
      "Epoch 97/100\n",
      "4/4 [==============================] - 0s 12ms/step - loss: 0.0205 - val_loss: 0.1456\n",
      "Epoch 98/100\n",
      "4/4 [==============================] - 0s 12ms/step - loss: 0.0212 - val_loss: 0.1106\n",
      "Epoch 99/100\n",
      "4/4 [==============================] - 0s 11ms/step - loss: 0.0196 - val_loss: 0.1267\n",
      "Epoch 100/100\n",
      "4/4 [==============================] - 0s 11ms/step - loss: 0.0199 - val_loss: 0.1172\n"
     ]
    },
    {
     "data": {
      "text/plain": [
       "<tensorflow.python.keras.callbacks.History at 0x247dd651190>"
      ]
     },
     "execution_count": 53,
     "metadata": {},
     "output_type": "execute_result"
    }
   ],
   "source": [
    "model.fit(X, y, epochs=100, validation_split=0.25)"
   ]
  },
  {
   "cell_type": "code",
   "execution_count": 54,
   "id": "cf625477",
   "metadata": {},
   "outputs": [],
   "source": [
    "h = model.history.history"
   ]
  },
  {
   "cell_type": "code",
   "execution_count": 55,
   "id": "41ec1112",
   "metadata": {},
   "outputs": [
    {
     "data": {
      "text/plain": [
       "<matplotlib.legend.Legend at 0x247dd6423a0>"
      ]
     },
     "execution_count": 55,
     "metadata": {},
     "output_type": "execute_result"
    },
    {
     "data": {
      "image/png": "[encoded data removed]",
      "text/plain": [
       "<Figure size 432x288 with 1 Axes>"
      ]
     },
     "metadata": {
      "needs_background": "light"
     },
     "output_type": "display_data"
    }
   ],
   "source": [
    "plt.plot(h['loss'])\n",
    "plt.plot(h['val_loss'])\n",
    "plt.legend(['loss', 'val_loss'])"
   ]
  },
  {
   "cell_type": "code",
   "execution_count": null,
   "id": "9855e4d9",
   "metadata": {},
   "outputs": [],
   "source": []
  }
 ],
 "metadata": {
  "kernelspec": {
   "display_name": "Python 3",
   "language": "python",
   "name": "python3"
  },
  "language_info": {
   "codemirror_mode": {
    "name": "ipython",
    "version": 3
   },
   "file_extension": ".py",
   "mimetype": "text/x-python",
   "name": "python",
   "nbconvert_exporter": "python",
   "pygments_lexer": "ipython3",
   "version": "3.8.8"
  }
 },
 "nbformat": 4,
 "nbformat_minor": 5
}
