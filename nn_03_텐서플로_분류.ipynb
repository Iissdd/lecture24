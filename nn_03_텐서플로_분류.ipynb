{
 "cells": [
  {
   "cell_type": "markdown",
   "id": "6e222d53",
   "metadata": {},
   "source": [
    "## 딥러닝 영상처리\n",
    "# 케라스와 분류"
   ]
  },
  {
   "cell_type": "code",
   "execution_count": 1,
   "id": "f8cb2f4b",
   "metadata": {},
   "outputs": [],
   "source": [
    "import numpy as np\n",
    "import pandas as pd\n",
    "import matplotlib.pyplot as plt"
   ]
  },
  {
   "cell_type": "markdown",
   "id": "1c3429bb",
   "metadata": {},
   "source": [
    "### 유방암 데이터 분류"
   ]
  },
  {
   "cell_type": "code",
   "execution_count": 2,
   "id": "f4833183",
   "metadata": {},
   "outputs": [],
   "source": [
    "from sklearn.datasets import load_breast_cancer\n",
    "cancer = load_breast_cancer()"
   ]
  },
  {
   "cell_type": "code",
   "execution_count": 3,
   "id": "23a8fdc0",
   "metadata": {},
   "outputs": [
    {
     "data": {
      "text/plain": [
       "((569, 30), (569,))"
      ]
     },
     "execution_count": 3,
     "metadata": {},
     "output_type": "execute_result"
    }
   ],
   "source": [
    "X = cancer.data\n",
    "y = cancer.target\n",
    "X.shape, y.shape"
   ]
  },
  {
   "cell_type": "code",
   "execution_count": 4,
   "id": "de25beac",
   "metadata": {},
   "outputs": [
    {
     "data": {
      "text/plain": [
       "array(['malignant', 'benign'], dtype='<U9')"
      ]
     },
     "execution_count": 4,
     "metadata": {},
     "output_type": "execute_result"
    }
   ],
   "source": [
    "cancer.target_names"
   ]
  },
  {
   "cell_type": "code",
   "execution_count": 5,
   "id": "5a9ab99a",
   "metadata": {
    "collapsed": true
   },
   "outputs": [
    {
     "data": {
      "text/plain": [
       "array([0, 0, 0, 0, 0, 0, 0, 0, 0, 0, 0, 0, 0, 0, 0, 0, 0, 0, 0, 1, 1, 1,\n",
       "       0, 0, 0, 0, 0, 0, 0, 0, 0, 0, 0, 0, 0, 0, 0, 1, 0, 0, 0, 0, 0, 0,\n",
       "       0, 0, 1, 0, 1, 1, 1, 1, 1, 0, 0, 1, 0, 0, 1, 1, 1, 1, 0, 1, 0, 0,\n",
       "       1, 1, 1, 1, 0, 1, 0, 0, 1, 0, 1, 0, 0, 1, 1, 1, 0, 0, 1, 0, 0, 0,\n",
       "       1, 1, 1, 0, 1, 1, 0, 0, 1, 1, 1, 0, 0, 1, 1, 1, 1, 0, 1, 1, 0, 1,\n",
       "       1, 1, 1, 1, 1, 1, 1, 0, 0, 0, 1, 0, 0, 1, 1, 1, 0, 0, 1, 0, 1, 0,\n",
       "       0, 1, 0, 0, 1, 1, 0, 1, 1, 0, 1, 1, 1, 1, 0, 1, 1, 1, 1, 1, 1, 1,\n",
       "       1, 1, 0, 1, 1, 1, 1, 0, 0, 1, 0, 1, 1, 0, 0, 1, 1, 0, 0, 1, 1, 1,\n",
       "       1, 0, 1, 1, 0, 0, 0, 1, 0, 1, 0, 1, 1, 1, 0, 1, 1, 0, 0, 1, 0, 0,\n",
       "       0, 0, 1, 0, 0, 0, 1, 0, 1, 0, 1, 1, 0, 1, 0, 0, 0, 0, 1, 1, 0, 0,\n",
       "       1, 1, 1, 0, 1, 1, 1, 1, 1, 0, 0, 1, 1, 0, 1, 1, 0, 0, 1, 0, 1, 1,\n",
       "       1, 1, 0, 1, 1, 1, 1, 1, 0, 1, 0, 0, 0, 0, 0, 0, 0, 0, 0, 0, 0, 0,\n",
       "       0, 0, 1, 1, 1, 1, 1, 1, 0, 1, 0, 1, 1, 0, 1, 1, 0, 1, 0, 0, 1, 1,\n",
       "       1, 1, 1, 1, 1, 1, 1, 1, 1, 1, 1, 0, 1, 1, 0, 1, 0, 1, 1, 1, 1, 1,\n",
       "       1, 1, 1, 1, 1, 1, 1, 1, 1, 0, 1, 1, 1, 0, 1, 0, 1, 1, 1, 1, 0, 0,\n",
       "       0, 1, 1, 1, 1, 0, 1, 0, 1, 0, 1, 1, 1, 0, 1, 1, 1, 1, 1, 1, 1, 0,\n",
       "       0, 0, 1, 1, 1, 1, 1, 1, 1, 1, 1, 1, 1, 0, 0, 1, 0, 0, 0, 1, 0, 0,\n",
       "       1, 1, 1, 1, 1, 0, 1, 1, 1, 1, 1, 0, 1, 1, 1, 0, 1, 1, 0, 0, 1, 1,\n",
       "       1, 1, 1, 1, 0, 1, 1, 1, 1, 1, 1, 1, 0, 1, 1, 1, 1, 1, 0, 1, 1, 0,\n",
       "       1, 1, 1, 1, 1, 1, 1, 1, 1, 1, 1, 1, 0, 1, 0, 0, 1, 0, 1, 1, 1, 1,\n",
       "       1, 0, 1, 1, 0, 1, 0, 1, 1, 0, 1, 0, 1, 1, 1, 1, 1, 1, 1, 1, 0, 0,\n",
       "       1, 1, 1, 1, 1, 1, 0, 1, 1, 1, 1, 1, 1, 1, 1, 1, 1, 0, 1, 1, 1, 1,\n",
       "       1, 1, 1, 0, 1, 0, 1, 1, 0, 1, 1, 1, 1, 1, 0, 0, 1, 0, 1, 0, 1, 1,\n",
       "       1, 1, 1, 0, 1, 1, 0, 1, 0, 1, 0, 0, 1, 1, 1, 0, 1, 1, 1, 1, 1, 1,\n",
       "       1, 1, 1, 1, 1, 0, 1, 0, 0, 1, 1, 1, 1, 1, 1, 1, 1, 1, 1, 1, 1, 1,\n",
       "       1, 1, 1, 1, 1, 1, 1, 1, 1, 1, 1, 1, 0, 0, 0, 0, 0, 0, 1])"
      ]
     },
     "execution_count": 5,
     "metadata": {},
     "output_type": "execute_result"
    }
   ],
   "source": [
    "y"
   ]
  },
  {
   "cell_type": "code",
   "execution_count": 6,
   "id": "84f53e39",
   "metadata": {},
   "outputs": [
    {
     "data": {
      "image/png": "[encoded data removed]",
      "text/plain": [
       "<Figure size 432x288 with 1 Axes>"
      ]
     },
     "metadata": {
      "needs_background": "light"
     },
     "output_type": "display_data"
    }
   ],
   "source": [
    "plt.boxplot(X); pass"
   ]
  },
  {
   "cell_type": "code",
   "execution_count": 60,
   "id": "720bc503",
   "metadata": {},
   "outputs": [
    {
     "data": {
      "text/plain": [
       "(569, 30)"
      ]
     },
     "execution_count": 60,
     "metadata": {},
     "output_type": "execute_result"
    }
   ],
   "source": [
    "### 정규화 적용\n",
    "X_norm = (X-X.mean(axis=0))/X.std(axis=0)\n",
    "X_norm.shape"
   ]
  },
  {
   "cell_type": "code",
   "execution_count": null,
   "id": "90b92f18",
   "metadata": {},
   "outputs": [],
   "source": []
  },
  {
   "cell_type": "code",
   "execution_count": 66,
   "id": "4b0fab82",
   "metadata": {
    "collapsed": true
   },
   "outputs": [
    {
     "name": "stdout",
     "output_type": "stream",
     "text": [
      "Model: \"sequential_13\"\n",
      "_________________________________________________________________\n",
      "Layer (type)                 Output Shape              Param #   \n",
      "=================================================================\n",
      "dense_17 (Dense)             (None, 10)                310       \n",
      "_________________________________________________________________\n",
      "dense_18 (Dense)             (None, 1)                 11        \n",
      "=================================================================\n",
      "Total params: 321\n",
      "Trainable params: 321\n",
      "Non-trainable params: 0\n",
      "_________________________________________________________________\n"
     ]
    }
   ],
   "source": [
    "model = keras.models.Sequential()\n",
    "model.add(keras.layers.Dense(10, input_shape=(30,), activation='relu'))\n",
    "model.add(keras.layers.Dense(1, activation='sigmoid'))\n",
    "model.summary()"
   ]
  },
  {
   "cell_type": "code",
   "execution_count": 8,
   "id": "7d5c0626",
   "metadata": {},
   "outputs": [
    {
     "data": {
      "text/plain": [
       "0.35667494393873245"
      ]
     },
     "execution_count": 8,
     "metadata": {},
     "output_type": "execute_result"
    }
   ],
   "source": [
    "-np.log(0.7)"
   ]
  },
  {
   "cell_type": "code",
   "execution_count": 67,
   "id": "d1bc5eef",
   "metadata": {},
   "outputs": [],
   "source": [
    "model.compile(loss='binary_crossentropy', optimizer='sgd', metrics=['acc'])"
   ]
  },
  {
   "cell_type": "code",
   "execution_count": 68,
   "id": "6694bf49",
   "metadata": {
    "scrolled": true
   },
   "outputs": [
    {
     "name": "stdout",
     "output_type": "stream",
     "text": [
      "Epoch 1/100\n",
      "14/14 [==============================] - 0s 14ms/step - loss: 1.0213 - acc: 0.2324 - val_loss: 1.0868 - val_acc: 0.1189\n",
      "Epoch 2/100\n",
      "14/14 [==============================] - 0s 8ms/step - loss: 0.9108 - acc: 0.2746 - val_loss: 0.9808 - val_acc: 0.1469\n",
      "Epoch 3/100\n",
      "14/14 [==============================] - 0s 8ms/step - loss: 0.8296 - acc: 0.3122 - val_loss: 0.8996 - val_acc: 0.1748\n",
      "Epoch 4/100\n",
      "14/14 [==============================] - 0s 7ms/step - loss: 0.7661 - acc: 0.3568 - val_loss: 0.8356 - val_acc: 0.2028\n",
      "Epoch 5/100\n",
      "14/14 [==============================] - 0s 7ms/step - loss: 0.7151 - acc: 0.4061 - val_loss: 0.7835 - val_acc: 0.2657\n",
      "Epoch 6/100\n",
      "14/14 [==============================] - 0s 7ms/step - loss: 0.6737 - acc: 0.4437 - val_loss: 0.7415 - val_acc: 0.2867\n",
      "Epoch 7/100\n",
      "14/14 [==============================] - 0s 7ms/step - loss: 0.6408 - acc: 0.5258 - val_loss: 0.7059 - val_acc: 0.3986\n",
      "Epoch 8/100\n",
      "14/14 [==============================] - 0s 9ms/step - loss: 0.6127 - acc: 0.6502 - val_loss: 0.6761 - val_acc: 0.4755\n",
      "Epoch 9/100\n",
      "14/14 [==============================] - 0s 7ms/step - loss: 0.5887 - acc: 0.7488 - val_loss: 0.6507 - val_acc: 0.6014\n",
      "Epoch 10/100\n",
      "14/14 [==============================] - 0s 7ms/step - loss: 0.5673 - acc: 0.8005 - val_loss: 0.6279 - val_acc: 0.6434\n",
      "Epoch 11/100\n",
      "14/14 [==============================] - 0s 7ms/step - loss: 0.5482 - acc: 0.8474 - val_loss: 0.6080 - val_acc: 0.7063\n",
      "Epoch 12/100\n",
      "14/14 [==============================] - 0s 7ms/step - loss: 0.5312 - acc: 0.8615 - val_loss: 0.5892 - val_acc: 0.7622\n",
      "Epoch 13/100\n",
      "14/14 [==============================] - 0s 7ms/step - loss: 0.5150 - acc: 0.8920 - val_loss: 0.5721 - val_acc: 0.7832\n",
      "Epoch 14/100\n",
      "14/14 [==============================] - 0s 7ms/step - loss: 0.5006 - acc: 0.9014 - val_loss: 0.5569 - val_acc: 0.8182\n",
      "Epoch 15/100\n",
      "14/14 [==============================] - 0s 7ms/step - loss: 0.4874 - acc: 0.9085 - val_loss: 0.5429 - val_acc: 0.8322\n",
      "Epoch 16/100\n",
      "14/14 [==============================] - 0s 7ms/step - loss: 0.4751 - acc: 0.9061 - val_loss: 0.5289 - val_acc: 0.8392\n",
      "Epoch 17/100\n",
      "14/14 [==============================] - 0s 7ms/step - loss: 0.4634 - acc: 0.9155 - val_loss: 0.5154 - val_acc: 0.8462\n",
      "Epoch 18/100\n",
      "14/14 [==============================] - 0s 8ms/step - loss: 0.4520 - acc: 0.9202 - val_loss: 0.5023 - val_acc: 0.8601\n",
      "Epoch 19/100\n",
      "14/14 [==============================] - 0s 8ms/step - loss: 0.4412 - acc: 0.9202 - val_loss: 0.4903 - val_acc: 0.8671\n",
      "Epoch 20/100\n",
      "14/14 [==============================] - 0s 8ms/step - loss: 0.4308 - acc: 0.9249 - val_loss: 0.4786 - val_acc: 0.9091\n",
      "Epoch 21/100\n",
      "14/14 [==============================] - 0s 8ms/step - loss: 0.4207 - acc: 0.9296 - val_loss: 0.4675 - val_acc: 0.9301\n",
      "Epoch 22/100\n",
      "14/14 [==============================] - 0s 7ms/step - loss: 0.4111 - acc: 0.9319 - val_loss: 0.4565 - val_acc: 0.9301\n",
      "Epoch 23/100\n",
      "14/14 [==============================] - 0s 8ms/step - loss: 0.4016 - acc: 0.9319 - val_loss: 0.4457 - val_acc: 0.9441\n",
      "Epoch 24/100\n",
      "14/14 [==============================] - 0s 7ms/step - loss: 0.3923 - acc: 0.9366 - val_loss: 0.4350 - val_acc: 0.9510\n",
      "Epoch 25/100\n",
      "14/14 [==============================] - 0s 7ms/step - loss: 0.3830 - acc: 0.9366 - val_loss: 0.4243 - val_acc: 0.9580\n",
      "Epoch 26/100\n",
      "14/14 [==============================] - 0s 7ms/step - loss: 0.3738 - acc: 0.9390 - val_loss: 0.4142 - val_acc: 0.9580\n",
      "Epoch 27/100\n",
      "14/14 [==============================] - 0s 7ms/step - loss: 0.3647 - acc: 0.9390 - val_loss: 0.4040 - val_acc: 0.9650\n",
      "Epoch 28/100\n",
      "14/14 [==============================] - 0s 8ms/step - loss: 0.3558 - acc: 0.9390 - val_loss: 0.3940 - val_acc: 0.9650\n",
      "Epoch 29/100\n",
      "14/14 [==============================] - 0s 7ms/step - loss: 0.3472 - acc: 0.9390 - val_loss: 0.3842 - val_acc: 0.9650\n",
      "Epoch 30/100\n",
      "14/14 [==============================] - 0s 7ms/step - loss: 0.3387 - acc: 0.9413 - val_loss: 0.3739 - val_acc: 0.9720\n",
      "Epoch 31/100\n",
      "14/14 [==============================] - 0s 7ms/step - loss: 0.3301 - acc: 0.9413 - val_loss: 0.3632 - val_acc: 0.9720\n",
      "Epoch 32/100\n",
      "14/14 [==============================] - 0s 7ms/step - loss: 0.3214 - acc: 0.9413 - val_loss: 0.3530 - val_acc: 0.9720\n",
      "Epoch 33/100\n",
      "14/14 [==============================] - 0s 8ms/step - loss: 0.3130 - acc: 0.9413 - val_loss: 0.3428 - val_acc: 0.9720\n",
      "Epoch 34/100\n",
      "14/14 [==============================] - 0s 9ms/step - loss: 0.3049 - acc: 0.9413 - val_loss: 0.3331 - val_acc: 0.9720\n",
      "Epoch 35/100\n",
      "14/14 [==============================] - 0s 9ms/step - loss: 0.2972 - acc: 0.9390 - val_loss: 0.3240 - val_acc: 0.9720\n",
      "Epoch 36/100\n",
      "14/14 [==============================] - 0s 8ms/step - loss: 0.2900 - acc: 0.9390 - val_loss: 0.3153 - val_acc: 0.9720\n",
      "Epoch 37/100\n",
      "14/14 [==============================] - 0s 8ms/step - loss: 0.2828 - acc: 0.9390 - val_loss: 0.3065 - val_acc: 0.9720\n",
      "Epoch 38/100\n",
      "14/14 [==============================] - 0s 7ms/step - loss: 0.2758 - acc: 0.9390 - val_loss: 0.2980 - val_acc: 0.9720\n",
      "Epoch 39/100\n",
      "14/14 [==============================] - 0s 7ms/step - loss: 0.2688 - acc: 0.9390 - val_loss: 0.2896 - val_acc: 0.9720\n",
      "Epoch 40/100\n",
      "14/14 [==============================] - 0s 7ms/step - loss: 0.2622 - acc: 0.9366 - val_loss: 0.2815 - val_acc: 0.9720\n",
      "Epoch 41/100\n",
      "14/14 [==============================] - 0s 8ms/step - loss: 0.2559 - acc: 0.9366 - val_loss: 0.2738 - val_acc: 0.9720\n",
      "Epoch 42/100\n",
      "14/14 [==============================] - 0s 7ms/step - loss: 0.2499 - acc: 0.9413 - val_loss: 0.2663 - val_acc: 0.9720\n",
      "Epoch 43/100\n",
      "14/14 [==============================] - 0s 8ms/step - loss: 0.2441 - acc: 0.9413 - val_loss: 0.2595 - val_acc: 0.9720\n",
      "Epoch 44/100\n",
      "14/14 [==============================] - 0s 8ms/step - loss: 0.2386 - acc: 0.9390 - val_loss: 0.2528 - val_acc: 0.9720\n",
      "Epoch 45/100\n",
      "14/14 [==============================] - 0s 8ms/step - loss: 0.2333 - acc: 0.9390 - val_loss: 0.2466 - val_acc: 0.9720\n",
      "Epoch 46/100\n",
      "14/14 [==============================] - 0s 8ms/step - loss: 0.2284 - acc: 0.9390 - val_loss: 0.2404 - val_acc: 0.9790\n",
      "Epoch 47/100\n",
      "14/14 [==============================] - 0s 8ms/step - loss: 0.2237 - acc: 0.9390 - val_loss: 0.2348 - val_acc: 0.9790\n",
      "Epoch 48/100\n",
      "14/14 [==============================] - 0s 7ms/step - loss: 0.2193 - acc: 0.9390 - val_loss: 0.2292 - val_acc: 0.9790\n",
      "Epoch 49/100\n",
      "14/14 [==============================] - 0s 7ms/step - loss: 0.2150 - acc: 0.9390 - val_loss: 0.2239 - val_acc: 0.9790\n",
      "Epoch 50/100\n",
      "14/14 [==============================] - 0s 9ms/step - loss: 0.2109 - acc: 0.9413 - val_loss: 0.2191 - val_acc: 0.9790\n",
      "Epoch 51/100\n",
      "14/14 [==============================] - 0s 7ms/step - loss: 0.2071 - acc: 0.9413 - val_loss: 0.2145 - val_acc: 0.9790\n",
      "Epoch 52/100\n",
      "14/14 [==============================] - 0s 6ms/step - loss: 0.2034 - acc: 0.9390 - val_loss: 0.2100 - val_acc: 0.9790\n",
      "Epoch 53/100\n",
      "14/14 [==============================] - 0s 7ms/step - loss: 0.1997 - acc: 0.9413 - val_loss: 0.2056 - val_acc: 0.9790\n",
      "Epoch 54/100\n",
      "14/14 [==============================] - 0s 7ms/step - loss: 0.1964 - acc: 0.9390 - val_loss: 0.2015 - val_acc: 0.9790\n",
      "Epoch 55/100\n",
      "14/14 [==============================] - 0s 7ms/step - loss: 0.1931 - acc: 0.9390 - val_loss: 0.1974 - val_acc: 0.9790\n",
      "Epoch 56/100\n",
      "14/14 [==============================] - 0s 8ms/step - loss: 0.1900 - acc: 0.9437 - val_loss: 0.1936 - val_acc: 0.9790\n",
      "Epoch 57/100\n",
      "14/14 [==============================] - 0s 8ms/step - loss: 0.1870 - acc: 0.9437 - val_loss: 0.1901 - val_acc: 0.9790\n",
      "Epoch 58/100\n",
      "14/14 [==============================] - 0s 8ms/step - loss: 0.1842 - acc: 0.9437 - val_loss: 0.1870 - val_acc: 0.9790\n",
      "Epoch 59/100\n",
      "14/14 [==============================] - 0s 8ms/step - loss: 0.1815 - acc: 0.9460 - val_loss: 0.1838 - val_acc: 0.9790\n",
      "Epoch 60/100\n",
      "14/14 [==============================] - 0s 8ms/step - loss: 0.1789 - acc: 0.9460 - val_loss: 0.1808 - val_acc: 0.9790\n",
      "Epoch 61/100\n",
      "14/14 [==============================] - 0s 8ms/step - loss: 0.1764 - acc: 0.9484 - val_loss: 0.1777 - val_acc: 0.9790\n",
      "Epoch 62/100\n",
      "14/14 [==============================] - 0s 6ms/step - loss: 0.1740 - acc: 0.9484 - val_loss: 0.1748 - val_acc: 0.9790\n",
      "Epoch 63/100\n",
      "14/14 [==============================] - 0s 7ms/step - loss: 0.1717 - acc: 0.9484 - val_loss: 0.1721 - val_acc: 0.9790\n",
      "Epoch 64/100\n",
      "14/14 [==============================] - 0s 7ms/step - loss: 0.1695 - acc: 0.9484 - val_loss: 0.1695 - val_acc: 0.9790\n",
      "Epoch 65/100\n",
      "14/14 [==============================] - 0s 8ms/step - loss: 0.1673 - acc: 0.9484 - val_loss: 0.1673 - val_acc: 0.9790\n",
      "Epoch 66/100\n",
      "14/14 [==============================] - 0s 7ms/step - loss: 0.1653 - acc: 0.9484 - val_loss: 0.1648 - val_acc: 0.9790\n",
      "Epoch 67/100\n",
      "14/14 [==============================] - 0s 7ms/step - loss: 0.1634 - acc: 0.9484 - val_loss: 0.1624 - val_acc: 0.9790\n",
      "Epoch 68/100\n",
      "14/14 [==============================] - 0s 7ms/step - loss: 0.1614 - acc: 0.9484 - val_loss: 0.1602 - val_acc: 0.9790\n",
      "Epoch 69/100\n",
      "14/14 [==============================] - 0s 8ms/step - loss: 0.1595 - acc: 0.9507 - val_loss: 0.1582 - val_acc: 0.9790\n",
      "Epoch 70/100\n",
      "14/14 [==============================] - 0s 7ms/step - loss: 0.1578 - acc: 0.9507 - val_loss: 0.1561 - val_acc: 0.9790\n",
      "Epoch 71/100\n",
      "14/14 [==============================] - 0s 8ms/step - loss: 0.1560 - acc: 0.9507 - val_loss: 0.1540 - val_acc: 0.9790\n",
      "Epoch 72/100\n",
      "14/14 [==============================] - 0s 8ms/step - loss: 0.1543 - acc: 0.9507 - val_loss: 0.1524 - val_acc: 0.9790\n",
      "Epoch 73/100\n",
      "14/14 [==============================] - 0s 8ms/step - loss: 0.1528 - acc: 0.9507 - val_loss: 0.1504 - val_acc: 0.9790\n",
      "Epoch 74/100\n",
      "14/14 [==============================] - 0s 8ms/step - loss: 0.1513 - acc: 0.9554 - val_loss: 0.1486 - val_acc: 0.9790\n",
      "Epoch 75/100\n",
      "14/14 [==============================] - 0s 8ms/step - loss: 0.1498 - acc: 0.9554 - val_loss: 0.1471 - val_acc: 0.9790\n",
      "Epoch 76/100\n",
      "14/14 [==============================] - 0s 8ms/step - loss: 0.1483 - acc: 0.9554 - val_loss: 0.1455 - val_acc: 0.9790\n",
      "Epoch 77/100\n",
      "14/14 [==============================] - 0s 7ms/step - loss: 0.1469 - acc: 0.9554 - val_loss: 0.1439 - val_acc: 0.9790\n",
      "Epoch 78/100\n",
      "14/14 [==============================] - 0s 8ms/step - loss: 0.1455 - acc: 0.9554 - val_loss: 0.1423 - val_acc: 0.9790\n",
      "Epoch 79/100\n",
      "14/14 [==============================] - 0s 7ms/step - loss: 0.1442 - acc: 0.9554 - val_loss: 0.1410 - val_acc: 0.9790\n",
      "Epoch 80/100\n",
      "14/14 [==============================] - 0s 7ms/step - loss: 0.1429 - acc: 0.9554 - val_loss: 0.1398 - val_acc: 0.9790\n",
      "Epoch 81/100\n",
      "14/14 [==============================] - 0s 7ms/step - loss: 0.1417 - acc: 0.9554 - val_loss: 0.1384 - val_acc: 0.9790\n",
      "Epoch 82/100\n",
      "14/14 [==============================] - 0s 8ms/step - loss: 0.1405 - acc: 0.9554 - val_loss: 0.1370 - val_acc: 0.9790\n",
      "Epoch 83/100\n",
      "14/14 [==============================] - 0s 8ms/step - loss: 0.1393 - acc: 0.9554 - val_loss: 0.1359 - val_acc: 0.9790\n",
      "Epoch 84/100\n",
      "14/14 [==============================] - 0s 8ms/step - loss: 0.1381 - acc: 0.9554 - val_loss: 0.1346 - val_acc: 0.9790\n",
      "Epoch 85/100\n",
      "14/14 [==============================] - 0s 7ms/step - loss: 0.1370 - acc: 0.9554 - val_loss: 0.1333 - val_acc: 0.9790\n",
      "Epoch 86/100\n",
      "14/14 [==============================] - 0s 7ms/step - loss: 0.1360 - acc: 0.9554 - val_loss: 0.1321 - val_acc: 0.9790\n",
      "Epoch 87/100\n",
      "14/14 [==============================] - 0s 7ms/step - loss: 0.1350 - acc: 0.9554 - val_loss: 0.1314 - val_acc: 0.9790\n",
      "Epoch 88/100\n",
      "14/14 [==============================] - 0s 6ms/step - loss: 0.1339 - acc: 0.9554 - val_loss: 0.1303 - val_acc: 0.9790\n",
      "Epoch 89/100\n",
      "14/14 [==============================] - 0s 7ms/step - loss: 0.1329 - acc: 0.9577 - val_loss: 0.1293 - val_acc: 0.9790\n",
      "Epoch 90/100\n",
      "14/14 [==============================] - 0s 7ms/step - loss: 0.1319 - acc: 0.9577 - val_loss: 0.1280 - val_acc: 0.9790\n",
      "Epoch 91/100\n",
      "14/14 [==============================] - 0s 7ms/step - loss: 0.1310 - acc: 0.9601 - val_loss: 0.1270 - val_acc: 0.9790\n",
      "Epoch 92/100\n",
      "14/14 [==============================] - 0s 8ms/step - loss: 0.1300 - acc: 0.9601 - val_loss: 0.1262 - val_acc: 0.9790\n",
      "Epoch 93/100\n",
      "14/14 [==============================] - 0s 8ms/step - loss: 0.1291 - acc: 0.9601 - val_loss: 0.1257 - val_acc: 0.9790\n",
      "Epoch 94/100\n",
      "14/14 [==============================] - 0s 8ms/step - loss: 0.1282 - acc: 0.9601 - val_loss: 0.1247 - val_acc: 0.9790\n",
      "Epoch 95/100\n",
      "14/14 [==============================] - 0s 7ms/step - loss: 0.1274 - acc: 0.9601 - val_loss: 0.1240 - val_acc: 0.9790\n",
      "Epoch 96/100\n",
      "14/14 [==============================] - 0s 7ms/step - loss: 0.1265 - acc: 0.9624 - val_loss: 0.1231 - val_acc: 0.9790\n",
      "Epoch 97/100\n",
      "14/14 [==============================] - 0s 7ms/step - loss: 0.1256 - acc: 0.9624 - val_loss: 0.1222 - val_acc: 0.9790\n",
      "Epoch 98/100\n",
      "14/14 [==============================] - 0s 7ms/step - loss: 0.1248 - acc: 0.9624 - val_loss: 0.1215 - val_acc: 0.9790\n",
      "Epoch 99/100\n",
      "14/14 [==============================] - 0s 7ms/step - loss: 0.1240 - acc: 0.9624 - val_loss: 0.1209 - val_acc: 0.9790\n",
      "Epoch 100/100\n",
      "14/14 [==============================] - 0s 7ms/step - loss: 0.1233 - acc: 0.9624 - val_loss: 0.1203 - val_acc: 0.9790\n"
     ]
    },
    {
     "data": {
      "text/plain": [
       "<tensorflow.python.keras.callbacks.History at 0x21957f3d970>"
      ]
     },
     "execution_count": 68,
     "metadata": {},
     "output_type": "execute_result"
    }
   ],
   "source": [
    "model.fit(X_norm, y, epochs=100, validation_split=0.25)"
   ]
  },
  {
   "cell_type": "code",
   "execution_count": 69,
   "id": "c7379624",
   "metadata": {},
   "outputs": [],
   "source": [
    "h = model.history.history"
   ]
  },
  {
   "cell_type": "code",
   "execution_count": 70,
   "id": "11af1d07",
   "metadata": {},
   "outputs": [
    {
     "data": {
      "text/plain": [
       "<matplotlib.legend.Legend at 0x2195a12c520>"
      ]
     },
     "execution_count": 70,
     "metadata": {},
     "output_type": "execute_result"
    },
    {
     "data": {
      "image/png": "[encoded data removed]",
      "text/plain": [
       "<Figure size 432x288 with 1 Axes>"
      ]
     },
     "metadata": {
      "needs_background": "light"
     },
     "output_type": "display_data"
    }
   ],
   "source": [
    "plt.plot(h['loss'])\n",
    "plt.plot(h['val_loss'])\n",
    "plt.legend(['loss', 'val_loss'])"
   ]
  },
  {
   "cell_type": "code",
   "execution_count": 71,
   "id": "4d465beb",
   "metadata": {},
   "outputs": [
    {
     "data": {
      "text/plain": [
       "<matplotlib.legend.Legend at 0x21957aea700>"
      ]
     },
     "execution_count": 71,
     "metadata": {},
     "output_type": "execute_result"
    },
    {
     "data": {
      "image/png": "[encoded data removed]",
      "text/plain": [
       "<Figure size 432x288 with 1 Axes>"
      ]
     },
     "metadata": {
      "needs_background": "light"
     },
     "output_type": "display_data"
    }
   ],
   "source": [
    "plt.plot(h['acc'])\n",
    "plt.plot(h['val_acc'])\n",
    "plt.legend(['acc', 'val_acc'])"
   ]
  },
  {
   "cell_type": "code",
   "execution_count": null,
   "id": "759043a2",
   "metadata": {},
   "outputs": [],
   "source": []
  },
  {
   "cell_type": "code",
   "execution_count": 72,
   "id": "29a6ddf6",
   "metadata": {},
   "outputs": [
    {
     "name": "stdout",
     "output_type": "stream",
     "text": [
      "Model: \"sequential_14\"\n",
      "_________________________________________________________________\n",
      "Layer (type)                 Output Shape              Param #   \n",
      "=================================================================\n",
      "dense_19 (Dense)             (None, 10)                310       \n",
      "_________________________________________________________________\n",
      "dense_20 (Dense)             (None, 5)                 55        \n",
      "_________________________________________________________________\n",
      "dense_21 (Dense)             (None, 1)                 6         \n",
      "=================================================================\n",
      "Total params: 371\n",
      "Trainable params: 371\n",
      "Non-trainable params: 0\n",
      "_________________________________________________________________\n"
     ]
    }
   ],
   "source": [
    "### 2개의 중간층\n",
    "model = keras.models.Sequential()\n",
    "model.add(keras.layers.Dense(10, input_shape=(30,), activation='relu'))\n",
    "model.add(keras.layers.Dense(5, activation='relu'))\n",
    "model.add(keras.layers.Dense(1, activation='sigmoid'))\n",
    "model.summary()"
   ]
  },
  {
   "cell_type": "code",
   "execution_count": 73,
   "id": "1182c994",
   "metadata": {},
   "outputs": [],
   "source": [
    "model.compile(loss='binary_crossentropy', optimizer='sgd', metrics=['acc'])"
   ]
  },
  {
   "cell_type": "code",
   "execution_count": 74,
   "id": "6f30e17b",
   "metadata": {
    "scrolled": true
   },
   "outputs": [
    {
     "name": "stdout",
     "output_type": "stream",
     "text": [
      "Epoch 1/100\n",
      "14/14 [==============================] - 0s 15ms/step - loss: 0.7725 - acc: 0.3310 - val_loss: 0.7504 - val_acc: 0.4196\n",
      "Epoch 2/100\n",
      "14/14 [==============================] - 0s 8ms/step - loss: 0.7402 - acc: 0.4178 - val_loss: 0.7241 - val_acc: 0.5385\n",
      "Epoch 3/100\n",
      "14/14 [==============================] - 0s 8ms/step - loss: 0.7195 - acc: 0.4789 - val_loss: 0.7067 - val_acc: 0.6154\n",
      "Epoch 4/100\n",
      "14/14 [==============================] - 0s 7ms/step - loss: 0.7058 - acc: 0.5258 - val_loss: 0.6927 - val_acc: 0.6783\n",
      "Epoch 5/100\n",
      "14/14 [==============================] - 0s 8ms/step - loss: 0.6956 - acc: 0.5610 - val_loss: 0.6832 - val_acc: 0.7063\n",
      "Epoch 6/100\n",
      "14/14 [==============================] - 0s 7ms/step - loss: 0.6887 - acc: 0.5751 - val_loss: 0.6744 - val_acc: 0.7273\n",
      "Epoch 7/100\n",
      "14/14 [==============================] - 0s 7ms/step - loss: 0.6824 - acc: 0.5751 - val_loss: 0.6669 - val_acc: 0.7692\n",
      "Epoch 8/100\n",
      "14/14 [==============================] - 0s 8ms/step - loss: 0.6769 - acc: 0.5822 - val_loss: 0.6606 - val_acc: 0.7762\n",
      "Epoch 9/100\n",
      "14/14 [==============================] - 0s 8ms/step - loss: 0.6721 - acc: 0.5939 - val_loss: 0.6542 - val_acc: 0.7762\n",
      "Epoch 10/100\n",
      "14/14 [==============================] - 0s 7ms/step - loss: 0.6674 - acc: 0.5962 - val_loss: 0.6477 - val_acc: 0.7762\n",
      "Epoch 11/100\n",
      "14/14 [==============================] - 0s 7ms/step - loss: 0.6629 - acc: 0.6009 - val_loss: 0.6413 - val_acc: 0.7762\n",
      "Epoch 12/100\n",
      "14/14 [==============================] - 0s 7ms/step - loss: 0.6584 - acc: 0.6033 - val_loss: 0.6351 - val_acc: 0.7762\n",
      "Epoch 13/100\n",
      "14/14 [==============================] - 0s 7ms/step - loss: 0.6540 - acc: 0.6033 - val_loss: 0.6285 - val_acc: 0.7762\n",
      "Epoch 14/100\n",
      "14/14 [==============================] - 0s 7ms/step - loss: 0.6493 - acc: 0.6033 - val_loss: 0.6221 - val_acc: 0.7832\n",
      "Epoch 15/100\n",
      "14/14 [==============================] - 0s 7ms/step - loss: 0.6446 - acc: 0.6033 - val_loss: 0.6150 - val_acc: 0.7832\n",
      "Epoch 16/100\n",
      "14/14 [==============================] - 0s 7ms/step - loss: 0.6395 - acc: 0.6033 - val_loss: 0.6078 - val_acc: 0.7832\n",
      "Epoch 17/100\n",
      "14/14 [==============================] - 0s 7ms/step - loss: 0.6341 - acc: 0.6033 - val_loss: 0.6009 - val_acc: 0.7832\n",
      "Epoch 18/100\n",
      "14/14 [==============================] - 0s 7ms/step - loss: 0.6286 - acc: 0.6080 - val_loss: 0.5934 - val_acc: 0.7832\n",
      "Epoch 19/100\n",
      "14/14 [==============================] - 0s 7ms/step - loss: 0.6228 - acc: 0.6080 - val_loss: 0.5853 - val_acc: 0.7832\n",
      "Epoch 20/100\n",
      "14/14 [==============================] - 0s 7ms/step - loss: 0.6165 - acc: 0.6103 - val_loss: 0.5776 - val_acc: 0.7832\n",
      "Epoch 21/100\n",
      "14/14 [==============================] - 0s 8ms/step - loss: 0.6103 - acc: 0.6103 - val_loss: 0.5689 - val_acc: 0.7832\n",
      "Epoch 22/100\n",
      "14/14 [==============================] - 0s 8ms/step - loss: 0.6034 - acc: 0.6127 - val_loss: 0.5603 - val_acc: 0.7832\n",
      "Epoch 23/100\n",
      "14/14 [==============================] - 0s 8ms/step - loss: 0.5965 - acc: 0.6150 - val_loss: 0.5518 - val_acc: 0.7832\n",
      "Epoch 24/100\n",
      "14/14 [==============================] - 0s 7ms/step - loss: 0.5895 - acc: 0.6150 - val_loss: 0.5430 - val_acc: 0.7902\n",
      "Epoch 25/100\n",
      "14/14 [==============================] - 0s 7ms/step - loss: 0.5822 - acc: 0.6174 - val_loss: 0.5337 - val_acc: 0.7972\n",
      "Epoch 26/100\n",
      "14/14 [==============================] - 0s 7ms/step - loss: 0.5746 - acc: 0.6174 - val_loss: 0.5237 - val_acc: 0.7972\n",
      "Epoch 27/100\n",
      "14/14 [==============================] - 0s 7ms/step - loss: 0.5666 - acc: 0.6221 - val_loss: 0.5136 - val_acc: 0.8042\n",
      "Epoch 28/100\n",
      "14/14 [==============================] - 0s 7ms/step - loss: 0.5585 - acc: 0.6221 - val_loss: 0.5037 - val_acc: 0.8112\n",
      "Epoch 29/100\n",
      "14/14 [==============================] - 0s 7ms/step - loss: 0.5503 - acc: 0.6221 - val_loss: 0.4937 - val_acc: 0.8182\n",
      "Epoch 30/100\n",
      "14/14 [==============================] - 0s 8ms/step - loss: 0.5419 - acc: 0.6315 - val_loss: 0.4833 - val_acc: 0.8182\n",
      "Epoch 31/100\n",
      "14/14 [==============================] - 0s 7ms/step - loss: 0.5335 - acc: 0.6385 - val_loss: 0.4730 - val_acc: 0.8252\n",
      "Epoch 32/100\n",
      "14/14 [==============================] - 0s 7ms/step - loss: 0.5251 - acc: 0.6432 - val_loss: 0.4630 - val_acc: 0.8252\n",
      "Epoch 33/100\n",
      "14/14 [==============================] - 0s 7ms/step - loss: 0.5167 - acc: 0.6526 - val_loss: 0.4530 - val_acc: 0.8252\n",
      "Epoch 34/100\n",
      "14/14 [==============================] - 0s 7ms/step - loss: 0.5083 - acc: 0.6549 - val_loss: 0.4426 - val_acc: 0.8322\n",
      "Epoch 35/100\n",
      "14/14 [==============================] - 0s 7ms/step - loss: 0.4996 - acc: 0.6549 - val_loss: 0.4317 - val_acc: 0.8392\n",
      "Epoch 36/100\n",
      "14/14 [==============================] - 0s 7ms/step - loss: 0.4908 - acc: 0.6667 - val_loss: 0.4219 - val_acc: 0.8392\n",
      "Epoch 37/100\n",
      "14/14 [==============================] - 0s 7ms/step - loss: 0.4819 - acc: 0.6808 - val_loss: 0.4121 - val_acc: 0.8392\n",
      "Epoch 38/100\n",
      "14/14 [==============================] - 0s 7ms/step - loss: 0.4725 - acc: 0.7160 - val_loss: 0.4017 - val_acc: 0.8671\n",
      "Epoch 39/100\n",
      "14/14 [==============================] - 0s 8ms/step - loss: 0.4625 - acc: 0.7394 - val_loss: 0.3912 - val_acc: 0.9231\n",
      "Epoch 40/100\n",
      "14/14 [==============================] - 0s 7ms/step - loss: 0.4516 - acc: 0.8333 - val_loss: 0.3809 - val_acc: 0.9301\n",
      "Epoch 41/100\n",
      "14/14 [==============================] - 0s 7ms/step - loss: 0.4403 - acc: 0.8521 - val_loss: 0.3703 - val_acc: 0.9371\n",
      "Epoch 42/100\n",
      "14/14 [==============================] - 0s 8ms/step - loss: 0.4291 - acc: 0.8615 - val_loss: 0.3600 - val_acc: 0.9510\n",
      "Epoch 43/100\n",
      "14/14 [==============================] - 0s 7ms/step - loss: 0.4173 - acc: 0.8685 - val_loss: 0.3502 - val_acc: 0.9580\n",
      "Epoch 44/100\n",
      "14/14 [==============================] - 0s 7ms/step - loss: 0.4060 - acc: 0.8826 - val_loss: 0.3409 - val_acc: 0.9650\n",
      "Epoch 45/100\n",
      "14/14 [==============================] - 0s 8ms/step - loss: 0.3947 - acc: 0.9038 - val_loss: 0.3315 - val_acc: 0.9650\n",
      "Epoch 46/100\n",
      "14/14 [==============================] - 0s 7ms/step - loss: 0.3838 - acc: 0.9085 - val_loss: 0.3214 - val_acc: 0.9650\n",
      "Epoch 47/100\n",
      "14/14 [==============================] - 0s 7ms/step - loss: 0.3729 - acc: 0.9131 - val_loss: 0.3123 - val_acc: 0.9580\n",
      "Epoch 48/100\n",
      "14/14 [==============================] - 0s 7ms/step - loss: 0.3621 - acc: 0.9178 - val_loss: 0.3026 - val_acc: 0.9650\n",
      "Epoch 49/100\n",
      "14/14 [==============================] - 0s 7ms/step - loss: 0.3513 - acc: 0.9249 - val_loss: 0.2925 - val_acc: 0.9650\n",
      "Epoch 50/100\n",
      "14/14 [==============================] - 0s 8ms/step - loss: 0.3402 - acc: 0.9272 - val_loss: 0.2829 - val_acc: 0.9650\n",
      "Epoch 51/100\n",
      "14/14 [==============================] - 0s 9ms/step - loss: 0.3292 - acc: 0.9296 - val_loss: 0.2742 - val_acc: 0.9650\n",
      "Epoch 52/100\n",
      "14/14 [==============================] - 0s 10ms/step - loss: 0.3186 - acc: 0.9366 - val_loss: 0.2650 - val_acc: 0.9580\n",
      "Epoch 53/100\n",
      "14/14 [==============================] - 0s 9ms/step - loss: 0.3081 - acc: 0.9390 - val_loss: 0.2565 - val_acc: 0.9580\n",
      "Epoch 54/100\n",
      "14/14 [==============================] - 0s 9ms/step - loss: 0.2984 - acc: 0.9390 - val_loss: 0.2489 - val_acc: 0.9650\n",
      "Epoch 55/100\n",
      "14/14 [==============================] - 0s 7ms/step - loss: 0.2894 - acc: 0.9460 - val_loss: 0.2414 - val_acc: 0.9650\n",
      "Epoch 56/100\n",
      "14/14 [==============================] - 0s 8ms/step - loss: 0.2807 - acc: 0.9484 - val_loss: 0.2342 - val_acc: 0.9650\n",
      "Epoch 57/100\n",
      "14/14 [==============================] - 0s 7ms/step - loss: 0.2727 - acc: 0.9437 - val_loss: 0.2278 - val_acc: 0.9650\n",
      "Epoch 58/100\n",
      "14/14 [==============================] - 0s 9ms/step - loss: 0.2652 - acc: 0.9390 - val_loss: 0.2223 - val_acc: 0.9650\n",
      "Epoch 59/100\n",
      "14/14 [==============================] - 0s 8ms/step - loss: 0.2585 - acc: 0.9390 - val_loss: 0.2171 - val_acc: 0.9650\n",
      "Epoch 60/100\n",
      "14/14 [==============================] - 0s 7ms/step - loss: 0.2517 - acc: 0.9390 - val_loss: 0.2117 - val_acc: 0.9650\n",
      "Epoch 61/100\n",
      "14/14 [==============================] - 0s 9ms/step - loss: 0.2456 - acc: 0.9390 - val_loss: 0.2068 - val_acc: 0.9650\n",
      "Epoch 62/100\n",
      "14/14 [==============================] - 0s 7ms/step - loss: 0.2397 - acc: 0.9390 - val_loss: 0.2017 - val_acc: 0.9650\n",
      "Epoch 63/100\n",
      "14/14 [==============================] - 0s 8ms/step - loss: 0.2342 - acc: 0.9413 - val_loss: 0.1971 - val_acc: 0.9650\n",
      "Epoch 64/100\n",
      "14/14 [==============================] - 0s 8ms/step - loss: 0.2291 - acc: 0.9413 - val_loss: 0.1926 - val_acc: 0.9650\n",
      "Epoch 65/100\n",
      "14/14 [==============================] - 0s 7ms/step - loss: 0.2242 - acc: 0.9437 - val_loss: 0.1886 - val_acc: 0.9720\n",
      "Epoch 66/100\n",
      "14/14 [==============================] - 0s 7ms/step - loss: 0.2195 - acc: 0.9437 - val_loss: 0.1847 - val_acc: 0.9720\n",
      "Epoch 67/100\n",
      "14/14 [==============================] - 0s 8ms/step - loss: 0.2152 - acc: 0.9460 - val_loss: 0.1815 - val_acc: 0.9720\n",
      "Epoch 68/100\n",
      "14/14 [==============================] - 0s 8ms/step - loss: 0.2110 - acc: 0.9437 - val_loss: 0.1785 - val_acc: 0.9720\n",
      "Epoch 69/100\n",
      "14/14 [==============================] - 0s 8ms/step - loss: 0.2069 - acc: 0.9437 - val_loss: 0.1752 - val_acc: 0.9720\n",
      "Epoch 70/100\n",
      "14/14 [==============================] - 0s 8ms/step - loss: 0.2030 - acc: 0.9413 - val_loss: 0.1720 - val_acc: 0.9720\n",
      "Epoch 71/100\n",
      "14/14 [==============================] - 0s 8ms/step - loss: 0.1993 - acc: 0.9413 - val_loss: 0.1695 - val_acc: 0.9720\n",
      "Epoch 72/100\n",
      "14/14 [==============================] - 0s 7ms/step - loss: 0.1958 - acc: 0.9413 - val_loss: 0.1674 - val_acc: 0.9720\n",
      "Epoch 73/100\n",
      "14/14 [==============================] - 0s 8ms/step - loss: 0.1924 - acc: 0.9413 - val_loss: 0.1645 - val_acc: 0.9720\n",
      "Epoch 74/100\n",
      "14/14 [==============================] - 0s 7ms/step - loss: 0.1891 - acc: 0.9390 - val_loss: 0.1627 - val_acc: 0.9720\n",
      "Epoch 75/100\n",
      "14/14 [==============================] - 0s 7ms/step - loss: 0.1861 - acc: 0.9390 - val_loss: 0.1612 - val_acc: 0.9720\n",
      "Epoch 76/100\n",
      "14/14 [==============================] - 0s 7ms/step - loss: 0.1829 - acc: 0.9390 - val_loss: 0.1583 - val_acc: 0.9720\n",
      "Epoch 77/100\n",
      "14/14 [==============================] - 0s 7ms/step - loss: 0.1799 - acc: 0.9390 - val_loss: 0.1558 - val_acc: 0.9720\n",
      "Epoch 78/100\n",
      "14/14 [==============================] - 0s 7ms/step - loss: 0.1770 - acc: 0.9390 - val_loss: 0.1533 - val_acc: 0.9720\n",
      "Epoch 79/100\n",
      "14/14 [==============================] - 0s 7ms/step - loss: 0.1743 - acc: 0.9390 - val_loss: 0.1510 - val_acc: 0.9790\n",
      "Epoch 80/100\n",
      "14/14 [==============================] - 0s 8ms/step - loss: 0.1716 - acc: 0.9390 - val_loss: 0.1504 - val_acc: 0.9790\n",
      "Epoch 81/100\n",
      "14/14 [==============================] - 0s 9ms/step - loss: 0.1690 - acc: 0.9413 - val_loss: 0.1484 - val_acc: 0.9790\n",
      "Epoch 82/100\n",
      "14/14 [==============================] - 0s 9ms/step - loss: 0.1665 - acc: 0.9413 - val_loss: 0.1464 - val_acc: 0.9790\n",
      "Epoch 83/100\n",
      "14/14 [==============================] - 0s 9ms/step - loss: 0.1642 - acc: 0.9413 - val_loss: 0.1448 - val_acc: 0.9720\n",
      "Epoch 84/100\n",
      "14/14 [==============================] - 0s 9ms/step - loss: 0.1620 - acc: 0.9413 - val_loss: 0.1426 - val_acc: 0.9720\n",
      "Epoch 85/100\n",
      "14/14 [==============================] - 0s 8ms/step - loss: 0.1597 - acc: 0.9413 - val_loss: 0.1408 - val_acc: 0.9720\n",
      "Epoch 86/100\n",
      "14/14 [==============================] - 0s 7ms/step - loss: 0.1577 - acc: 0.9413 - val_loss: 0.1391 - val_acc: 0.9720\n",
      "Epoch 87/100\n",
      "14/14 [==============================] - 0s 8ms/step - loss: 0.1555 - acc: 0.9413 - val_loss: 0.1378 - val_acc: 0.9720\n",
      "Epoch 88/100\n",
      "14/14 [==============================] - 0s 8ms/step - loss: 0.1535 - acc: 0.9413 - val_loss: 0.1365 - val_acc: 0.9720\n",
      "Epoch 89/100\n",
      "14/14 [==============================] - 0s 8ms/step - loss: 0.1515 - acc: 0.9413 - val_loss: 0.1349 - val_acc: 0.9720\n",
      "Epoch 90/100\n",
      "14/14 [==============================] - 0s 8ms/step - loss: 0.1497 - acc: 0.9413 - val_loss: 0.1331 - val_acc: 0.9720\n",
      "Epoch 91/100\n",
      "14/14 [==============================] - 0s 8ms/step - loss: 0.1479 - acc: 0.9413 - val_loss: 0.1318 - val_acc: 0.9720\n",
      "Epoch 92/100\n",
      "14/14 [==============================] - 0s 7ms/step - loss: 0.1461 - acc: 0.9413 - val_loss: 0.1306 - val_acc: 0.9720\n",
      "Epoch 93/100\n",
      "14/14 [==============================] - 0s 7ms/step - loss: 0.1444 - acc: 0.9437 - val_loss: 0.1297 - val_acc: 0.9720\n",
      "Epoch 94/100\n",
      "14/14 [==============================] - 0s 7ms/step - loss: 0.1427 - acc: 0.9437 - val_loss: 0.1285 - val_acc: 0.9720\n",
      "Epoch 95/100\n",
      "14/14 [==============================] - 0s 7ms/step - loss: 0.1410 - acc: 0.9460 - val_loss: 0.1269 - val_acc: 0.9720\n",
      "Epoch 96/100\n",
      "14/14 [==============================] - 0s 8ms/step - loss: 0.1396 - acc: 0.9460 - val_loss: 0.1258 - val_acc: 0.9790\n",
      "Epoch 97/100\n",
      "14/14 [==============================] - 0s 7ms/step - loss: 0.1379 - acc: 0.9460 - val_loss: 0.1252 - val_acc: 0.9790\n",
      "Epoch 98/100\n",
      "14/14 [==============================] - 0s 8ms/step - loss: 0.1363 - acc: 0.9460 - val_loss: 0.1240 - val_acc: 0.9790\n",
      "Epoch 99/100\n",
      "14/14 [==============================] - 0s 8ms/step - loss: 0.1349 - acc: 0.9484 - val_loss: 0.1225 - val_acc: 0.9790\n",
      "Epoch 100/100\n",
      "14/14 [==============================] - 0s 7ms/step - loss: 0.1335 - acc: 0.9484 - val_loss: 0.1213 - val_acc: 0.9790\n"
     ]
    },
    {
     "data": {
      "text/plain": [
       "<tensorflow.python.keras.callbacks.History at 0x2195de7c910>"
      ]
     },
     "execution_count": 74,
     "metadata": {},
     "output_type": "execute_result"
    }
   ],
   "source": [
    "model.fit(X_norm, y, epochs=100, validation_split=0.25)"
   ]
  },
  {
   "cell_type": "code",
   "execution_count": 69,
   "id": "44f74bc6",
   "metadata": {},
   "outputs": [],
   "source": [
    "h = model.history.history"
   ]
  },
  {
   "cell_type": "code",
   "execution_count": 75,
   "id": "58ba5467",
   "metadata": {},
   "outputs": [
    {
     "data": {
      "text/plain": [
       "<matplotlib.legend.Legend at 0x2195df865b0>"
      ]
     },
     "execution_count": 75,
     "metadata": {},
     "output_type": "execute_result"
    },
    {
     "data": {
      "image/png": "[encoded data removed]",
      "text/plain": [
       "<Figure size 432x288 with 2 Axes>"
      ]
     },
     "metadata": {
      "needs_background": "light"
     },
     "output_type": "display_data"
    }
   ],
   "source": [
    "plt.subplot(1,2,1)\n",
    "plt.plot(h['loss'])\n",
    "plt.plot(h['val_loss'])\n",
    "plt.legend(['loss', 'val_loss'])\n",
    "\n",
    "plt.subplot(1,2,2)\n",
    "plt.plot(h['acc'])\n",
    "plt.plot(h['val_acc'])\n",
    "plt.legend(['acc', 'val_acc'])"
   ]
  },
  {
   "cell_type": "code",
   "execution_count": null,
   "id": "5ecf81d3",
   "metadata": {},
   "outputs": [],
   "source": []
  },
  {
   "cell_type": "markdown",
   "id": "242d96a7",
   "metadata": {},
   "source": [
    "### 배치 설정"
   ]
  },
  {
   "cell_type": "code",
   "execution_count": 76,
   "id": "e6320dbe",
   "metadata": {},
   "outputs": [
    {
     "name": "stdout",
     "output_type": "stream",
     "text": [
      "Help on method fit in module tensorflow.python.keras.engine.training:\n",
      "\n",
      "fit(x=None, y=None, batch_size=None, epochs=1, verbose='auto', callbacks=None, validation_split=0.0, validation_data=None, shuffle=True, class_weight=None, sample_weight=None, initial_epoch=0, steps_per_epoch=None, validation_steps=None, validation_batch_size=None, validation_freq=1, max_queue_size=10, workers=1, use_multiprocessing=False) method of tensorflow.python.keras.engine.sequential.Sequential instance\n",
      "    Trains the model for a fixed number of epochs (iterations on a dataset).\n",
      "    \n",
      "    Args:\n",
      "        x: Input data. It could be:\n",
      "          - A Numpy array (or array-like), or a list of arrays\n",
      "            (in case the model has multiple inputs).\n",
      "          - A TensorFlow tensor, or a list of tensors\n",
      "            (in case the model has multiple inputs).\n",
      "          - A dict mapping input names to the corresponding array/tensors,\n",
      "            if the model has named inputs.\n",
      "          - A `tf.data` dataset. Should return a tuple\n",
      "            of either `(inputs, targets)` or\n",
      "            `(inputs, targets, sample_weights)`.\n",
      "          - A generator or `keras.utils.Sequence` returning `(inputs, targets)`\n",
      "            or `(inputs, targets, sample_weights)`.\n",
      "          - A `tf.keras.utils.experimental.DatasetCreator`, which wraps a\n",
      "            callable that takes a single argument of type\n",
      "            `tf.distribute.InputContext`, and returns a `tf.data.Dataset`.\n",
      "            `DatasetCreator` should be used when users prefer to specify the\n",
      "            per-replica batching and sharding logic for the `Dataset`.\n",
      "            See `tf.keras.utils.experimental.DatasetCreator` doc for more\n",
      "            information.\n",
      "          A more detailed description of unpacking behavior for iterator types\n",
      "          (Dataset, generator, Sequence) is given below. If using\n",
      "          `tf.distribute.experimental.ParameterServerStrategy`, only\n",
      "          `DatasetCreator` type is supported for `x`.\n",
      "        y: Target data. Like the input data `x`,\n",
      "          it could be either Numpy array(s) or TensorFlow tensor(s).\n",
      "          It should be consistent with `x` (you cannot have Numpy inputs and\n",
      "          tensor targets, or inversely). If `x` is a dataset, generator,\n",
      "          or `keras.utils.Sequence` instance, `y` should\n",
      "          not be specified (since targets will be obtained from `x`).\n",
      "        batch_size: Integer or `None`.\n",
      "            Number of samples per gradient update.\n",
      "            If unspecified, `batch_size` will default to 32.\n",
      "            Do not specify the `batch_size` if your data is in the\n",
      "            form of datasets, generators, or `keras.utils.Sequence` instances\n",
      "            (since they generate batches).\n",
      "        epochs: Integer. Number of epochs to train the model.\n",
      "            An epoch is an iteration over the entire `x` and `y`\n",
      "            data provided.\n",
      "            Note that in conjunction with `initial_epoch`,\n",
      "            `epochs` is to be understood as \"final epoch\".\n",
      "            The model is not trained for a number of iterations\n",
      "            given by `epochs`, but merely until the epoch\n",
      "            of index `epochs` is reached.\n",
      "        verbose: 'auto', 0, 1, or 2. Verbosity mode.\n",
      "            0 = silent, 1 = progress bar, 2 = one line per epoch.\n",
      "            'auto' defaults to 1 for most cases, but 2 when used with\n",
      "            `ParameterServerStrategy`. Note that the progress bar is not\n",
      "            particularly useful when logged to a file, so verbose=2 is\n",
      "            recommended when not running interactively (eg, in a production\n",
      "            environment).\n",
      "        callbacks: List of `keras.callbacks.Callback` instances.\n",
      "            List of callbacks to apply during training.\n",
      "            See `tf.keras.callbacks`. Note `tf.keras.callbacks.ProgbarLogger`\n",
      "            and `tf.keras.callbacks.History` callbacks are created automatically\n",
      "            and need not be passed into `model.fit`.\n",
      "            `tf.keras.callbacks.ProgbarLogger` is created or not based on\n",
      "            `verbose` argument to `model.fit`.\n",
      "            Callbacks with batch-level calls are currently unsupported with\n",
      "            `tf.distribute.experimental.ParameterServerStrategy`, and users are\n",
      "            advised to implement epoch-level calls instead with an appropriate\n",
      "            `steps_per_epoch` value.\n",
      "        validation_split: Float between 0 and 1.\n",
      "            Fraction of the training data to be used as validation data.\n",
      "            The model will set apart this fraction of the training data,\n",
      "            will not train on it, and will evaluate\n",
      "            the loss and any model metrics\n",
      "            on this data at the end of each epoch.\n",
      "            The validation data is selected from the last samples\n",
      "            in the `x` and `y` data provided, before shuffling. This argument is\n",
      "            not supported when `x` is a dataset, generator or\n",
      "           `keras.utils.Sequence` instance.\n",
      "            `validation_split` is not yet supported with\n",
      "            `tf.distribute.experimental.ParameterServerStrategy`.\n",
      "        validation_data: Data on which to evaluate\n",
      "            the loss and any model metrics at the end of each epoch.\n",
      "            The model will not be trained on this data. Thus, note the fact\n",
      "            that the validation loss of data provided using `validation_split`\n",
      "            or `validation_data` is not affected by regularization layers like\n",
      "            noise and dropout.\n",
      "            `validation_data` will override `validation_split`.\n",
      "            `validation_data` could be:\n",
      "              - A tuple `(x_val, y_val)` of Numpy arrays or tensors.\n",
      "              - A tuple `(x_val, y_val, val_sample_weights)` of NumPy arrays.\n",
      "              - A `tf.data.Dataset`.\n",
      "              - A Python generator or `keras.utils.Sequence` returning\n",
      "              `(inputs, targets)` or `(inputs, targets, sample_weights)`.\n",
      "            `validation_data` is not yet supported with\n",
      "            `tf.distribute.experimental.ParameterServerStrategy`.\n",
      "        shuffle: Boolean (whether to shuffle the training data\n",
      "            before each epoch) or str (for 'batch'). This argument is ignored\n",
      "            when `x` is a generator or an object of tf.data.Dataset.\n",
      "            'batch' is a special option for dealing\n",
      "            with the limitations of HDF5 data; it shuffles in batch-sized\n",
      "            chunks. Has no effect when `steps_per_epoch` is not `None`.\n",
      "        class_weight: Optional dictionary mapping class indices (integers)\n",
      "            to a weight (float) value, used for weighting the loss function\n",
      "            (during training only).\n",
      "            This can be useful to tell the model to\n",
      "            \"pay more attention\" to samples from\n",
      "            an under-represented class.\n",
      "        sample_weight: Optional Numpy array of weights for\n",
      "            the training samples, used for weighting the loss function\n",
      "            (during training only). You can either pass a flat (1D)\n",
      "            Numpy array with the same length as the input samples\n",
      "            (1:1 mapping between weights and samples),\n",
      "            or in the case of temporal data,\n",
      "            you can pass a 2D array with shape\n",
      "            `(samples, sequence_length)`,\n",
      "            to apply a different weight to every timestep of every sample. This\n",
      "            argument is not supported when `x` is a dataset, generator, or\n",
      "           `keras.utils.Sequence` instance, instead provide the sample_weights\n",
      "            as the third element of `x`.\n",
      "        initial_epoch: Integer.\n",
      "            Epoch at which to start training\n",
      "            (useful for resuming a previous training run).\n",
      "        steps_per_epoch: Integer or `None`.\n",
      "            Total number of steps (batches of samples)\n",
      "            before declaring one epoch finished and starting the\n",
      "            next epoch. When training with input tensors such as\n",
      "            TensorFlow data tensors, the default `None` is equal to\n",
      "            the number of samples in your dataset divided by\n",
      "            the batch size, or 1 if that cannot be determined. If x is a\n",
      "            `tf.data` dataset, and 'steps_per_epoch'\n",
      "            is None, the epoch will run until the input dataset is exhausted.\n",
      "            When passing an infinitely repeating dataset, you must specify the\n",
      "            `steps_per_epoch` argument. This argument is not supported with\n",
      "            array inputs. `steps_per_epoch=None` is not supported when using\n",
      "            `tf.distribute.experimental.ParameterServerStrategy`.\n",
      "        validation_steps: Only relevant if `validation_data` is provided and\n",
      "            is a `tf.data` dataset. Total number of steps (batches of\n",
      "            samples) to draw before stopping when performing validation\n",
      "            at the end of every epoch. If 'validation_steps' is None, validation\n",
      "            will run until the `validation_data` dataset is exhausted. In the\n",
      "            case of an infinitely repeated dataset, it will run into an\n",
      "            infinite loop. If 'validation_steps' is specified and only part of\n",
      "            the dataset will be consumed, the evaluation will start from the\n",
      "            beginning of the dataset at each epoch. This ensures that the same\n",
      "            validation samples are used every time.\n",
      "        validation_batch_size: Integer or `None`.\n",
      "            Number of samples per validation batch.\n",
      "            If unspecified, will default to `batch_size`.\n",
      "            Do not specify the `validation_batch_size` if your data is in the\n",
      "            form of datasets, generators, or `keras.utils.Sequence` instances\n",
      "            (since they generate batches).\n",
      "        validation_freq: Only relevant if validation data is provided. Integer\n",
      "            or `collections.abc.Container` instance (e.g. list, tuple, etc.).\n",
      "            If an integer, specifies how many training epochs to run before a\n",
      "            new validation run is performed, e.g. `validation_freq=2` runs\n",
      "            validation every 2 epochs. If a Container, specifies the epochs on\n",
      "            which to run validation, e.g. `validation_freq=[1, 2, 10]` runs\n",
      "            validation at the end of the 1st, 2nd, and 10th epochs.\n",
      "        max_queue_size: Integer. Used for generator or `keras.utils.Sequence`\n",
      "            input only. Maximum size for the generator queue.\n",
      "            If unspecified, `max_queue_size` will default to 10.\n",
      "        workers: Integer. Used for generator or `keras.utils.Sequence` input\n",
      "            only. Maximum number of processes to spin up\n",
      "            when using process-based threading. If unspecified, `workers`\n",
      "            will default to 1.\n",
      "        use_multiprocessing: Boolean. Used for generator or\n",
      "            `keras.utils.Sequence` input only. If `True`, use process-based\n",
      "            threading. If unspecified, `use_multiprocessing` will default to\n",
      "            `False`. Note that because this implementation relies on\n",
      "            multiprocessing, you should not pass non-picklable arguments to\n",
      "            the generator as they can't be passed easily to children processes.\n",
      "    \n",
      "    Unpacking behavior for iterator-like inputs:\n",
      "        A common pattern is to pass a tf.data.Dataset, generator, or\n",
      "      tf.keras.utils.Sequence to the `x` argument of fit, which will in fact\n",
      "      yield not only features (x) but optionally targets (y) and sample weights.\n",
      "      Keras requires that the output of such iterator-likes be unambiguous. The\n",
      "      iterator should return a tuple of length 1, 2, or 3, where the optional\n",
      "      second and third elements will be used for y and sample_weight\n",
      "      respectively. Any other type provided will be wrapped in a length one\n",
      "      tuple, effectively treating everything as 'x'. When yielding dicts, they\n",
      "      should still adhere to the top-level tuple structure.\n",
      "      e.g. `({\"x0\": x0, \"x1\": x1}, y)`. Keras will not attempt to separate\n",
      "      features, targets, and weights from the keys of a single dict.\n",
      "        A notable unsupported data type is the namedtuple. The reason is that\n",
      "      it behaves like both an ordered datatype (tuple) and a mapping\n",
      "      datatype (dict). So given a namedtuple of the form:\n",
      "          `namedtuple(\"example_tuple\", [\"y\", \"x\"])`\n",
      "      it is ambiguous whether to reverse the order of the elements when\n",
      "      interpreting the value. Even worse is a tuple of the form:\n",
      "          `namedtuple(\"other_tuple\", [\"x\", \"y\", \"z\"])`\n",
      "      where it is unclear if the tuple was intended to be unpacked into x, y,\n",
      "      and sample_weight or passed through as a single element to `x`. As a\n",
      "      result the data processing code will simply raise a ValueError if it\n",
      "      encounters a namedtuple. (Along with instructions to remedy the issue.)\n",
      "    \n",
      "    Returns:\n",
      "        A `History` object. Its `History.history` attribute is\n",
      "        a record of training loss values and metrics values\n",
      "        at successive epochs, as well as validation loss values\n",
      "        and validation metrics values (if applicable).\n",
      "    \n",
      "    Raises:\n",
      "        RuntimeError: 1. If the model was never compiled or,\n",
      "        2. If `model.fit` is  wrapped in `tf.function`.\n",
      "    \n",
      "        ValueError: In case of mismatch between the provided input data\n",
      "            and what the model expects or when the input data is empty.\n",
      "\n"
     ]
    }
   ],
   "source": [
    "help(model.fit)"
   ]
  },
  {
   "cell_type": "code",
   "execution_count": null,
   "id": "760d3aa7",
   "metadata": {},
   "outputs": [],
   "source": []
  },
  {
   "cell_type": "code",
   "execution_count": 82,
   "id": "7397e790",
   "metadata": {},
   "outputs": [
    {
     "name": "stdout",
     "output_type": "stream",
     "text": [
      "Model: \"sequential_16\"\n",
      "_________________________________________________________________\n",
      "Layer (type)                 Output Shape              Param #   \n",
      "=================================================================\n",
      "dense_25 (Dense)             (None, 10)                310       \n",
      "_________________________________________________________________\n",
      "dense_26 (Dense)             (None, 5)                 55        \n",
      "_________________________________________________________________\n",
      "dense_27 (Dense)             (None, 1)                 6         \n",
      "=================================================================\n",
      "Total params: 371\n",
      "Trainable params: 371\n",
      "Non-trainable params: 0\n",
      "_________________________________________________________________\n"
     ]
    }
   ],
   "source": [
    "model = keras.models.Sequential()\n",
    "model.add(keras.layers.Dense(10, input_shape=(30,), activation='relu'))\n",
    "model.add(keras.layers.Dense(5, activation='relu'))\n",
    "model.add(keras.layers.Dense(1, activation='sigmoid'))\n",
    "model.summary()"
   ]
  },
  {
   "cell_type": "code",
   "execution_count": 83,
   "id": "5d06463e",
   "metadata": {},
   "outputs": [],
   "source": [
    "model.compile(loss='binary_crossentropy', optimizer='sgd', metrics=['acc'])"
   ]
  },
  {
   "cell_type": "code",
   "execution_count": 84,
   "id": "f22cd91a",
   "metadata": {
    "scrolled": true
   },
   "outputs": [
    {
     "name": "stdout",
     "output_type": "stream",
     "text": [
      "Epoch 1/100\n",
      "27/27 [==============================] - 1s 10ms/step - loss: 0.6925 - acc: 0.6479 - val_loss: 0.6833 - val_acc: 0.7762\n",
      "Epoch 2/100\n",
      "27/27 [==============================] - 0s 6ms/step - loss: 0.6792 - acc: 0.7019 - val_loss: 0.6675 - val_acc: 0.8042\n",
      "Epoch 3/100\n",
      "27/27 [==============================] - 0s 6ms/step - loss: 0.6643 - acc: 0.7254 - val_loss: 0.6495 - val_acc: 0.8042\n",
      "Epoch 4/100\n",
      "27/27 [==============================] - 0s 7ms/step - loss: 0.6471 - acc: 0.7465 - val_loss: 0.6289 - val_acc: 0.8112\n",
      "Epoch 5/100\n",
      "27/27 [==============================] - 0s 6ms/step - loss: 0.6271 - acc: 0.7512 - val_loss: 0.6033 - val_acc: 0.8182\n",
      "Epoch 6/100\n",
      "27/27 [==============================] - 0s 6ms/step - loss: 0.6033 - acc: 0.7629 - val_loss: 0.5749 - val_acc: 0.8462\n",
      "Epoch 7/100\n",
      "27/27 [==============================] - 0s 7ms/step - loss: 0.5759 - acc: 0.7958 - val_loss: 0.5437 - val_acc: 0.8531\n",
      "Epoch 8/100\n",
      "27/27 [==============================] - 0s 7ms/step - loss: 0.5469 - acc: 0.8169 - val_loss: 0.5106 - val_acc: 0.9091\n",
      "Epoch 9/100\n",
      "27/27 [==============================] - 0s 6ms/step - loss: 0.5177 - acc: 0.8427 - val_loss: 0.4771 - val_acc: 0.9231\n",
      "Epoch 10/100\n",
      "27/27 [==============================] - 0s 6ms/step - loss: 0.4879 - acc: 0.8592 - val_loss: 0.4416 - val_acc: 0.9371\n",
      "Epoch 11/100\n",
      "27/27 [==============================] - 0s 7ms/step - loss: 0.4583 - acc: 0.8732 - val_loss: 0.4083 - val_acc: 0.9441\n",
      "Epoch 12/100\n",
      "27/27 [==============================] - 0s 7ms/step - loss: 0.4300 - acc: 0.8873 - val_loss: 0.3764 - val_acc: 0.9441\n",
      "Epoch 13/100\n",
      "27/27 [==============================] - 0s 6ms/step - loss: 0.4027 - acc: 0.8920 - val_loss: 0.3478 - val_acc: 0.9510\n",
      "Epoch 14/100\n",
      "27/27 [==============================] - 0s 7ms/step - loss: 0.3775 - acc: 0.8991 - val_loss: 0.3212 - val_acc: 0.9510\n",
      "Epoch 15/100\n",
      "27/27 [==============================] - 0s 7ms/step - loss: 0.3540 - acc: 0.9014 - val_loss: 0.2973 - val_acc: 0.9510\n",
      "Epoch 16/100\n",
      "27/27 [==============================] - 0s 6ms/step - loss: 0.3324 - acc: 0.9061 - val_loss: 0.2759 - val_acc: 0.9580\n",
      "Epoch 17/100\n",
      "27/27 [==============================] - 0s 6ms/step - loss: 0.3113 - acc: 0.9108 - val_loss: 0.2565 - val_acc: 0.9580\n",
      "Epoch 18/100\n",
      "27/27 [==============================] - 0s 7ms/step - loss: 0.2926 - acc: 0.9108 - val_loss: 0.2397 - val_acc: 0.9650\n",
      "Epoch 19/100\n",
      "27/27 [==============================] - 0s 6ms/step - loss: 0.2762 - acc: 0.9155 - val_loss: 0.2245 - val_acc: 0.9720\n",
      "Epoch 20/100\n",
      "27/27 [==============================] - 0s 7ms/step - loss: 0.2614 - acc: 0.9178 - val_loss: 0.2110 - val_acc: 0.9790\n",
      "Epoch 21/100\n",
      "27/27 [==============================] - 0s 6ms/step - loss: 0.2477 - acc: 0.9202 - val_loss: 0.1992 - val_acc: 0.9790\n",
      "Epoch 22/100\n",
      "27/27 [==============================] - 0s 6ms/step - loss: 0.2360 - acc: 0.9249 - val_loss: 0.1890 - val_acc: 0.9790\n",
      "Epoch 23/100\n",
      "27/27 [==============================] - 0s 6ms/step - loss: 0.2257 - acc: 0.9319 - val_loss: 0.1803 - val_acc: 0.9790\n",
      "Epoch 24/100\n",
      "27/27 [==============================] - 0s 7ms/step - loss: 0.2167 - acc: 0.9319 - val_loss: 0.1720 - val_acc: 0.9790\n",
      "Epoch 25/100\n",
      "27/27 [==============================] - 0s 6ms/step - loss: 0.2086 - acc: 0.9343 - val_loss: 0.1649 - val_acc: 0.9790\n",
      "Epoch 26/100\n",
      "27/27 [==============================] - 0s 7ms/step - loss: 0.2014 - acc: 0.9343 - val_loss: 0.1588 - val_acc: 0.9790\n",
      "Epoch 27/100\n",
      "27/27 [==============================] - 0s 7ms/step - loss: 0.1952 - acc: 0.9366 - val_loss: 0.1541 - val_acc: 0.9790\n",
      "Epoch 28/100\n",
      "27/27 [==============================] - 0s 6ms/step - loss: 0.1892 - acc: 0.9390 - val_loss: 0.1486 - val_acc: 0.9790\n",
      "Epoch 29/100\n",
      "27/27 [==============================] - 0s 6ms/step - loss: 0.1839 - acc: 0.9437 - val_loss: 0.1438 - val_acc: 0.9790\n",
      "Epoch 30/100\n",
      "27/27 [==============================] - 0s 6ms/step - loss: 0.1791 - acc: 0.9437 - val_loss: 0.1395 - val_acc: 0.9790\n",
      "Epoch 31/100\n",
      "27/27 [==============================] - 0s 6ms/step - loss: 0.1748 - acc: 0.9437 - val_loss: 0.1356 - val_acc: 0.9790\n",
      "Epoch 32/100\n",
      "27/27 [==============================] - 0s 6ms/step - loss: 0.1705 - acc: 0.9437 - val_loss: 0.1324 - val_acc: 0.9790\n",
      "Epoch 33/100\n",
      "27/27 [==============================] - 0s 7ms/step - loss: 0.1666 - acc: 0.9460 - val_loss: 0.1295 - val_acc: 0.9720\n",
      "Epoch 34/100\n",
      "27/27 [==============================] - 0s 7ms/step - loss: 0.1630 - acc: 0.9460 - val_loss: 0.1271 - val_acc: 0.9720\n",
      "Epoch 35/100\n",
      "27/27 [==============================] - 0s 6ms/step - loss: 0.1596 - acc: 0.9460 - val_loss: 0.1248 - val_acc: 0.9720\n",
      "Epoch 36/100\n",
      "27/27 [==============================] - 0s 6ms/step - loss: 0.1565 - acc: 0.9460 - val_loss: 0.1226 - val_acc: 0.9720\n",
      "Epoch 37/100\n",
      "27/27 [==============================] - 0s 6ms/step - loss: 0.1535 - acc: 0.9484 - val_loss: 0.1196 - val_acc: 0.9790\n",
      "Epoch 38/100\n",
      "27/27 [==============================] - 0s 6ms/step - loss: 0.1511 - acc: 0.9460 - val_loss: 0.1175 - val_acc: 0.9790\n",
      "Epoch 39/100\n",
      "27/27 [==============================] - 0s 6ms/step - loss: 0.1485 - acc: 0.9484 - val_loss: 0.1157 - val_acc: 0.9790\n",
      "Epoch 40/100\n",
      "27/27 [==============================] - 0s 6ms/step - loss: 0.1461 - acc: 0.9507 - val_loss: 0.1138 - val_acc: 0.9790\n",
      "Epoch 41/100\n",
      "27/27 [==============================] - 0s 6ms/step - loss: 0.1437 - acc: 0.9484 - val_loss: 0.1121 - val_acc: 0.9790\n",
      "Epoch 42/100\n",
      "27/27 [==============================] - 0s 7ms/step - loss: 0.1414 - acc: 0.9460 - val_loss: 0.1102 - val_acc: 0.9790\n",
      "Epoch 43/100\n",
      "27/27 [==============================] - 0s 7ms/step - loss: 0.1391 - acc: 0.9460 - val_loss: 0.1083 - val_acc: 0.9790\n",
      "Epoch 44/100\n",
      "27/27 [==============================] - 0s 6ms/step - loss: 0.1370 - acc: 0.9460 - val_loss: 0.1065 - val_acc: 0.9790\n",
      "Epoch 45/100\n",
      "27/27 [==============================] - 0s 6ms/step - loss: 0.1350 - acc: 0.9484 - val_loss: 0.1048 - val_acc: 0.9860\n",
      "Epoch 46/100\n",
      "27/27 [==============================] - 0s 7ms/step - loss: 0.1332 - acc: 0.9460 - val_loss: 0.1034 - val_acc: 0.9860\n",
      "Epoch 47/100\n",
      "27/27 [==============================] - 0s 7ms/step - loss: 0.1313 - acc: 0.9460 - val_loss: 0.1023 - val_acc: 0.9860\n",
      "Epoch 48/100\n",
      "27/27 [==============================] - 0s 6ms/step - loss: 0.1296 - acc: 0.9484 - val_loss: 0.1009 - val_acc: 0.9860\n",
      "Epoch 49/100\n",
      "27/27 [==============================] - 0s 6ms/step - loss: 0.1279 - acc: 0.9460 - val_loss: 0.0997 - val_acc: 0.9860\n",
      "Epoch 50/100\n",
      "27/27 [==============================] - 0s 6ms/step - loss: 0.1263 - acc: 0.9460 - val_loss: 0.0985 - val_acc: 0.9860\n",
      "Epoch 51/100\n",
      "27/27 [==============================] - 0s 6ms/step - loss: 0.1248 - acc: 0.9460 - val_loss: 0.0974 - val_acc: 0.9860\n",
      "Epoch 52/100\n",
      "27/27 [==============================] - 0s 7ms/step - loss: 0.1232 - acc: 0.9507 - val_loss: 0.0965 - val_acc: 0.9860\n",
      "Epoch 53/100\n",
      "27/27 [==============================] - 0s 7ms/step - loss: 0.1217 - acc: 0.9507 - val_loss: 0.0952 - val_acc: 0.9860\n",
      "Epoch 54/100\n",
      "27/27 [==============================] - 0s 6ms/step - loss: 0.1204 - acc: 0.9484 - val_loss: 0.0944 - val_acc: 0.9860\n",
      "Epoch 55/100\n",
      "27/27 [==============================] - 0s 7ms/step - loss: 0.1188 - acc: 0.9484 - val_loss: 0.0936 - val_acc: 0.9860\n",
      "Epoch 56/100\n",
      "27/27 [==============================] - 0s 7ms/step - loss: 0.1175 - acc: 0.9507 - val_loss: 0.0926 - val_acc: 0.9860\n",
      "Epoch 57/100\n",
      "27/27 [==============================] - 0s 6ms/step - loss: 0.1165 - acc: 0.9484 - val_loss: 0.0916 - val_acc: 0.9860\n",
      "Epoch 58/100\n",
      "27/27 [==============================] - 0s 6ms/step - loss: 0.1153 - acc: 0.9484 - val_loss: 0.0908 - val_acc: 0.9860\n",
      "Epoch 59/100\n",
      "27/27 [==============================] - 0s 6ms/step - loss: 0.1140 - acc: 0.9507 - val_loss: 0.0895 - val_acc: 0.9860\n",
      "Epoch 60/100\n",
      "27/27 [==============================] - 0s 6ms/step - loss: 0.1129 - acc: 0.9531 - val_loss: 0.0891 - val_acc: 0.9860\n",
      "Epoch 61/100\n",
      "27/27 [==============================] - 0s 7ms/step - loss: 0.1118 - acc: 0.9554 - val_loss: 0.0880 - val_acc: 0.9860\n",
      "Epoch 62/100\n",
      "27/27 [==============================] - 0s 6ms/step - loss: 0.1107 - acc: 0.9554 - val_loss: 0.0871 - val_acc: 0.9860\n",
      "Epoch 63/100\n",
      "27/27 [==============================] - 0s 7ms/step - loss: 0.1096 - acc: 0.9531 - val_loss: 0.0865 - val_acc: 0.9860\n",
      "Epoch 64/100\n",
      "27/27 [==============================] - 0s 6ms/step - loss: 0.1087 - acc: 0.9531 - val_loss: 0.0855 - val_acc: 0.9860\n",
      "Epoch 65/100\n",
      "27/27 [==============================] - 0s 6ms/step - loss: 0.1077 - acc: 0.9554 - val_loss: 0.0854 - val_acc: 0.9860\n",
      "Epoch 66/100\n",
      "27/27 [==============================] - 0s 6ms/step - loss: 0.1068 - acc: 0.9531 - val_loss: 0.0844 - val_acc: 0.9860\n",
      "Epoch 67/100\n",
      "27/27 [==============================] - 0s 6ms/step - loss: 0.1057 - acc: 0.9531 - val_loss: 0.0836 - val_acc: 0.9860\n",
      "Epoch 68/100\n",
      "27/27 [==============================] - 0s 6ms/step - loss: 0.1048 - acc: 0.9554 - val_loss: 0.0828 - val_acc: 0.9860\n",
      "Epoch 69/100\n",
      "27/27 [==============================] - 0s 7ms/step - loss: 0.1041 - acc: 0.9554 - val_loss: 0.0818 - val_acc: 0.9860\n",
      "Epoch 70/100\n",
      "27/27 [==============================] - 0s 6ms/step - loss: 0.1032 - acc: 0.9577 - val_loss: 0.0812 - val_acc: 0.9860\n",
      "Epoch 71/100\n",
      "27/27 [==============================] - 0s 6ms/step - loss: 0.1022 - acc: 0.9577 - val_loss: 0.0805 - val_acc: 0.9860\n",
      "Epoch 72/100\n",
      "27/27 [==============================] - 0s 6ms/step - loss: 0.1013 - acc: 0.9577 - val_loss: 0.0794 - val_acc: 0.9860\n",
      "Epoch 73/100\n",
      "27/27 [==============================] - 0s 6ms/step - loss: 0.1006 - acc: 0.9554 - val_loss: 0.0786 - val_acc: 0.9860\n",
      "Epoch 74/100\n",
      "27/27 [==============================] - 0s 7ms/step - loss: 0.0998 - acc: 0.9554 - val_loss: 0.0785 - val_acc: 0.9860\n",
      "Epoch 75/100\n",
      "27/27 [==============================] - 0s 6ms/step - loss: 0.0989 - acc: 0.9554 - val_loss: 0.0777 - val_acc: 0.9860\n",
      "Epoch 76/100\n",
      "27/27 [==============================] - 0s 6ms/step - loss: 0.0980 - acc: 0.9554 - val_loss: 0.0773 - val_acc: 0.9860\n",
      "Epoch 77/100\n",
      "27/27 [==============================] - 0s 6ms/step - loss: 0.0975 - acc: 0.9554 - val_loss: 0.0767 - val_acc: 0.9860\n",
      "Epoch 78/100\n",
      "27/27 [==============================] - 0s 6ms/step - loss: 0.0966 - acc: 0.9554 - val_loss: 0.0766 - val_acc: 0.9860\n",
      "Epoch 79/100\n",
      "27/27 [==============================] - 0s 6ms/step - loss: 0.0958 - acc: 0.9601 - val_loss: 0.0764 - val_acc: 0.9860\n",
      "Epoch 80/100\n",
      "27/27 [==============================] - 0s 6ms/step - loss: 0.0949 - acc: 0.9601 - val_loss: 0.0760 - val_acc: 0.9930\n",
      "Epoch 81/100\n",
      "27/27 [==============================] - 0s 6ms/step - loss: 0.0944 - acc: 0.9577 - val_loss: 0.0753 - val_acc: 0.9930\n",
      "Epoch 82/100\n",
      "27/27 [==============================] - 0s 7ms/step - loss: 0.0935 - acc: 0.9601 - val_loss: 0.0749 - val_acc: 0.9930\n",
      "Epoch 83/100\n",
      "27/27 [==============================] - 0s 6ms/step - loss: 0.0928 - acc: 0.9601 - val_loss: 0.0744 - val_acc: 0.9930\n",
      "Epoch 84/100\n",
      "27/27 [==============================] - 0s 7ms/step - loss: 0.0923 - acc: 0.9601 - val_loss: 0.0742 - val_acc: 0.9930\n",
      "Epoch 85/100\n",
      "27/27 [==============================] - 0s 7ms/step - loss: 0.0912 - acc: 0.9601 - val_loss: 0.0742 - val_acc: 0.9930\n",
      "Epoch 86/100\n",
      "27/27 [==============================] - 0s 6ms/step - loss: 0.0903 - acc: 0.9601 - val_loss: 0.0736 - val_acc: 0.9930\n",
      "Epoch 87/100\n",
      "27/27 [==============================] - 0s 6ms/step - loss: 0.0894 - acc: 0.9601 - val_loss: 0.0732 - val_acc: 0.9930\n",
      "Epoch 88/100\n",
      "27/27 [==============================] - 0s 6ms/step - loss: 0.0886 - acc: 0.9601 - val_loss: 0.0725 - val_acc: 0.9930\n",
      "Epoch 89/100\n",
      "27/27 [==============================] - 0s 6ms/step - loss: 0.0876 - acc: 0.9648 - val_loss: 0.0725 - val_acc: 0.9930\n",
      "Epoch 90/100\n",
      "27/27 [==============================] - 0s 6ms/step - loss: 0.0867 - acc: 0.9671 - val_loss: 0.0722 - val_acc: 0.9930\n",
      "Epoch 91/100\n",
      "27/27 [==============================] - 0s 6ms/step - loss: 0.0858 - acc: 0.9671 - val_loss: 0.0716 - val_acc: 0.9930\n",
      "Epoch 92/100\n",
      "27/27 [==============================] - 0s 7ms/step - loss: 0.0852 - acc: 0.9671 - val_loss: 0.0714 - val_acc: 0.9930\n",
      "Epoch 93/100\n",
      "27/27 [==============================] - 0s 7ms/step - loss: 0.0844 - acc: 0.9671 - val_loss: 0.0709 - val_acc: 0.9930\n",
      "Epoch 94/100\n",
      "27/27 [==============================] - 0s 7ms/step - loss: 0.0833 - acc: 0.9671 - val_loss: 0.0707 - val_acc: 0.9930\n",
      "Epoch 95/100\n",
      "27/27 [==============================] - 0s 6ms/step - loss: 0.0825 - acc: 0.9671 - val_loss: 0.0707 - val_acc: 0.9930\n",
      "Epoch 96/100\n",
      "27/27 [==============================] - 0s 6ms/step - loss: 0.0818 - acc: 0.9671 - val_loss: 0.0703 - val_acc: 0.9930\n",
      "Epoch 97/100\n",
      "27/27 [==============================] - 0s 6ms/step - loss: 0.0811 - acc: 0.9671 - val_loss: 0.0701 - val_acc: 0.9930\n",
      "Epoch 98/100\n",
      "27/27 [==============================] - 0s 7ms/step - loss: 0.0805 - acc: 0.9671 - val_loss: 0.0696 - val_acc: 0.9930\n",
      "Epoch 99/100\n",
      "27/27 [==============================] - 0s 7ms/step - loss: 0.0796 - acc: 0.9671 - val_loss: 0.0693 - val_acc: 0.9930\n",
      "Epoch 100/100\n",
      "27/27 [==============================] - 0s 7ms/step - loss: 0.0791 - acc: 0.9671 - val_loss: 0.0689 - val_acc: 0.9930\n"
     ]
    },
    {
     "data": {
      "text/plain": [
       "<tensorflow.python.keras.callbacks.History at 0x2195f231940>"
      ]
     },
     "execution_count": 84,
     "metadata": {},
     "output_type": "execute_result"
    }
   ],
   "source": [
    "model.fit(X_norm, y, epochs=100, batch_size=16, validation_split=0.25)"
   ]
  },
  {
   "cell_type": "code",
   "execution_count": 85,
   "id": "8aa33ee3",
   "metadata": {},
   "outputs": [],
   "source": [
    "h = model.history.history"
   ]
  },
  {
   "cell_type": "code",
   "execution_count": 86,
   "id": "447d77fa",
   "metadata": {},
   "outputs": [
    {
     "data": {
      "text/plain": [
       "<matplotlib.legend.Legend at 0x2196034c760>"
      ]
     },
     "execution_count": 86,
     "metadata": {},
     "output_type": "execute_result"
    },
    {
     "data": {
      "image/png": "[encoded data removed]",
      "text/plain": [
       "<Figure size 432x288 with 2 Axes>"
      ]
     },
     "metadata": {
      "needs_background": "light"
     },
     "output_type": "display_data"
    }
   ],
   "source": [
    "plt.subplot(1,2,1)\n",
    "plt.plot(h['loss'])\n",
    "plt.plot(h['val_loss'])\n",
    "plt.legend(['loss', 'val_loss'])\n",
    "\n",
    "plt.subplot(1,2,2)\n",
    "plt.plot(h['acc'])\n",
    "plt.plot(h['val_acc'])\n",
    "plt.legend(['acc', 'val_acc'])"
   ]
  },
  {
   "cell_type": "code",
   "execution_count": null,
   "id": "dfe82e9c",
   "metadata": {},
   "outputs": [],
   "source": []
  }
 ],
 "metadata": {
  "kernelspec": {
   "display_name": "Python 3",
   "language": "python",
   "name": "python3"
  },
  "language_info": {
   "codemirror_mode": {
    "name": "ipython",
    "version": 3
   },
   "file_extension": ".py",
   "mimetype": "text/x-python",
   "name": "python",
   "nbconvert_exporter": "python",
   "pygments_lexer": "ipython3",
   "version": "3.8.8"
  }
 },
 "nbformat": 4,
 "nbformat_minor": 5
}
